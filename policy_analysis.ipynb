{
 "cells": [
  {
   "cell_type": "code",
   "execution_count": 1,
   "metadata": {},
   "outputs": [],
   "source": [
    "using Revise\n",
    "using Plots, CSV, DataFrames\n",
    "includet(\"draftpolicy.jl\")"
   ]
  },
  {
   "cell_type": "markdown",
   "metadata": {},
   "source": [
    "### I.  Example Draft Policy Plot"
   ]
  },
  {
   "cell_type": "code",
   "execution_count": 3,
   "metadata": {},
   "outputs": [
    {
     "data": {
      "text/plain": [
       "60"
      ]
     },
     "execution_count": 3,
     "metadata": {},
     "output_type": "execute_result"
    }
   ],
   "source": [
    "16+21+23"
   ]
  },
  {
   "cell_type": "code",
   "execution_count": 2,
   "metadata": {},
   "outputs": [
    {
     "data": {
      "text/plain": [
       "(60, 2)"
      ]
     },
     "execution_count": 2,
     "metadata": {},
     "output_type": "execute_result"
    }
   ],
   "source": [
    "N=3\n",
    "G= 20\n",
    "s = Season(N,G)\n",
    "size(s.matches)"
   ]
  },
  {
   "cell_type": "code",
   "execution_count": 50,
   "metadata": {},
   "outputs": [
    {
     "name": "stdout",
     "output_type": "stream",
     "text": [
      "10\n",
      "1\n",
      "not calculating\n"
     ]
    },
    {
     "data": {
      "text/plain": [
       "(Record([0.333333 0.2765 … 0.000666667 0.000666667; 0.333333 0.367 … 0.349167 0.349167; 0.333333 0.3565 … 0.650167 0.650167], 45, [1 1 … 23 23; 0 0 … 18 19; 0 1 … 18 18], [0.333333 0.333333 … 0.333333 0.333333; 0.333333 0.333333 … 0.333333 0.333333; 0.333333 0.333333 … 0.333333 0.333333]), [0.0898333, 0.138833, 0.138833, 0.130833, 0.075, 0.075, 0.0883333, 0.1235, 0.1235, 0.102833  …  0.0, 0.0, 0.0, 0.0, 0.0, 0.0, 0.0, 0.0, 0.0, 0.0])"
      ]
     },
     "execution_count": 50,
     "metadata": {},
     "output_type": "execute_result"
    }
   ],
   "source": [
    "N= 3\n",
    "G= 20 \n",
    "s = Season(N,G)\n",
    "abilities = zeros(N) .+ 1/N \n",
    "record,incentives = calculate_draft_rule(s,nothing,10,1,false,abilities) "
   ]
  },
  {
   "cell_type": "code",
   "execution_count": 51,
   "metadata": {},
   "outputs": [],
   "source": [
    "plot(1:length(incentives),incentives,label=[\"\"],xlabel=\"Match\",ylabel=\"Bound on Draft Probability Change\")\n",
    "savefig(\"sim3_inc.pdf\")"
   ]
  },
  {
   "cell_type": "code",
   "execution_count": 52,
   "metadata": {},
   "outputs": [],
   "source": [
    "plot(1:(size(record.draft_prob,2)),transpose(record.draft_prob),xlabel=\"Match\",ylabel=\"Percentage\",\n",
    "    color=[:blue :red :green], legend=:topright,label=[\"T1\",\"T2\",\"T3\"]) \n",
    "savefig(\"sim3_prod.pdf\")"
   ]
  },
  {
   "cell_type": "code",
   "execution_count": 53,
   "metadata": {},
   "outputs": [],
   "source": [
    "plot(1:(size(record.cwins,2)),transpose(record.cwins),xlabel=\"Match\",ylabel=\"Wins\",\n",
    "    color=[:blue :red :green], legend=:top,label=[\"T1\",\"T2\",\"T3\"]) \n",
    "savefig(\"sim3_wins.pdf\")"
   ]
  },
  {
   "cell_type": "code",
   "execution_count": 257,
   "metadata": {},
   "outputs": [],
   "source": [
    "plot(1:(size(record.abilities,2)),transpose(record.abilities),xlabel=\"Match\",ylabel=\"Abilities\",\n",
    "    color=[:blue :red :green], legend=:top,label=[\"T1\",\"T2\",\"T3\"]) \n",
    "#plot(1:size(record.cwins,1),record.cwins,linestyle=:dash,color=[:blue :red :green], legend=:top,\n",
    "  #  title=\"Win Records\", \n",
    "   # label=[\"T1\",\"T2\",\"T3\"],xlabel=\"Match\",ylabel=\"Cumulative Wins\")\n",
    "savefig(\"sim3_abilities.pdf\")\n",
    "\n",
    "\n",
    "\n",
    "\n",
    "#\n",
    "\n"
   ]
  },
  {
   "cell_type": "markdown",
   "metadata": {},
   "source": [
    "### II. Expected Gain over Uniform Lottery"
   ]
  },
  {
   "cell_type": "code",
   "execution_count": 265,
   "metadata": {},
   "outputs": [
    {
     "name": "stdout",
     "output_type": "stream",
     "text": [
      "9"
     ]
    }
   ],
   "source": [
    "print(length(s.matches[:,2]))"
   ]
  },
  {
   "cell_type": "code",
   "execution_count": 260,
   "metadata": {},
   "outputs": [
    {
     "name": "stdout",
     "output_type": "stream",
     "text": [
      "done 1\n",
      "done 2\n",
      "done 3\n",
      "done 4\n",
      "done 5\n",
      "done 6\n",
      "done 7\n",
      "done 8\n",
      "done 9\n",
      "done 10\n",
      "done 11\n",
      "done 12\n",
      "done 13\n",
      "done 14\n",
      "done 15\n",
      "done 16\n",
      "done 17\n",
      "done 18\n",
      "done 19\n",
      "done 20\n"
     ]
    }
   ],
   "source": [
    "N=3\n",
    "G=3\n",
    "s = Season(N,G)\n",
    "\n",
    "stops = zeros(20)\n",
    "obj = zeros(20)\n",
    "\n",
    "for m in 1:20\n",
    "    o,st = expected_objective(s,[1/3,1/3,1/3],false,m)\n",
    "    obj[m] = o\n",
    "    stops[m] = st \n",
    "    println(\"done \", m)\n",
    "end "
   ]
  },
  {
   "cell_type": "code",
   "execution_count": 262,
   "metadata": {},
   "outputs": [],
   "source": [
    "plot(1:20,obj.-0.5,color=[:blue],title=\"Expected Gain over Uniform Lottery\",xlabel=\"B\",ylabel=\"Probability\",label=[\"\"])\n",
    "savefig(\"sim_obj.pdf\")\n",
    "plot(1:20,stops/size(s.matches,1),color=[:red],title=\"Games Taken Into Account\",label=[\"\"],xlabel=\"B\",ylabel=\"Percent\")\n",
    "savefig(\"sim_stops.pdf\")"
   ]
  },
  {
   "cell_type": "code",
   "execution_count": 15,
   "metadata": {},
   "outputs": [],
   "source": []
  },
  {
   "cell_type": "markdown",
   "metadata": {},
   "source": [
    "## 2. Plotting Draft Policy on Real Data"
   ]
  },
  {
   "cell_type": "code",
   "execution_count": 11,
   "metadata": {},
   "outputs": [
    {
     "data": {
      "text/plain": [
       "simulate_season (generic function with 2 methods)"
      ]
     },
     "execution_count": 11,
     "metadata": {},
     "output_type": "execute_result"
    }
   ],
   "source": [
    "function simulate_season(year,mult=10)\n",
    "    team_id = CSV.read(string(\"/Users/evanmunro/Documents/Github/draft-policy/data/cleaned/teams_\",\n",
    "                            string(year),\".csv\"))\n",
    "    season = CSV.read(string(\"/Users/evanmunro/Documents/Github/draft-policy/data/cleaned/season_\",year,\".csv\")) \n",
    "    matches = convert(Matrix, season[[:hID,:aID]])\n",
    "    wins = convert(Array, season[:win])\n",
    "    teams = convert(Array,team_id[:id])\n",
    "    s = Season(teams,matches)\n",
    "    record,_=calculate_draft_rule(s,wins,mult,16)\n",
    "    stoptime=record.stop\n",
    "    println(record.stop)\n",
    "    end_wins = record.cwins[:,size(record.cwins,2)]\n",
    "    end_draft = record.draft_prob[:,size(record.draft_prob,2)] \n",
    "\n",
    "    df = DataFrame(team = copy(team_id[:team]),wins = copy(end_wins),score = copy(end_draft))\n",
    "    sort!(df, (:wins), rev=(true))\n",
    "\n",
    "    added_amt = sum(df[1:16,:score])/(length(teams)-16)\n",
    "    df[17:length(teams),:score] = df[17:length(teams),:score] .+ added_amt \n",
    "    df[1:16,:score] =  0 \n",
    "    df[17:length(teams),:]\n",
    "end"
   ]
  },
  {
   "cell_type": "code",
   "execution_count": 16,
   "metadata": {},
   "outputs": [
    {
     "name": "stdout",
     "output_type": "stream",
     "text": [
      "10\n",
      "16\n",
      "not calculating\n",
      "332\n"
     ]
    },
    {
     "data": {
      "text/html": [
       "<table class=\"data-frame\"><thead><tr><th></th><th>team</th><th>wins</th><th>score</th></tr><tr><th></th><th>String⍰</th><th>Int64</th><th>Float64</th></tr></thead><tbody><p>14 rows × 3 columns</p><tr><th>1</th><td>Phoenix Suns</td><td>39</td><td>0.0048869</td></tr><tr><th>2</th><td>Brooklyn Nets</td><td>38</td><td>0.0104702</td></tr><tr><th>3</th><td>Indiana Pacers</td><td>38</td><td>0.0416369</td></tr><tr><th>4</th><td>Utah Jazz</td><td>38</td><td>0.0750536</td></tr><tr><th>5</th><td>Miami Heat</td><td>37</td><td>0.0081369</td></tr><tr><th>6</th><td>Charlotte Hornets</td><td>33</td><td>0.0450536</td></tr><tr><th>7</th><td>Detroit Pistons</td><td>32</td><td>0.209554</td></tr><tr><th>8</th><td>Denver Nuggets</td><td>30</td><td>0.0046369</td></tr><tr><th>9</th><td>Sacramento Kings</td><td>29</td><td>0.00722024</td></tr><tr><th>10</th><td>Orlando Magic</td><td>25</td><td>0.0372202</td></tr><tr><th>11</th><td>Los Angeles Lakers</td><td>21</td><td>0.0614702</td></tr><tr><th>12</th><td>Philadelphia 76ers</td><td>18</td><td>0.25522</td></tr><tr><th>13</th><td>New York Knicks</td><td>17</td><td>0.16047</td></tr><tr><th>14</th><td>Minnesota Timberwolves</td><td>16</td><td>0.0789702</td></tr></tbody></table>"
      ],
      "text/latex": [
       "\\begin{tabular}{r|ccc}\n",
       "\t& team & wins & score\\\\\n",
       "\t\\hline\n",
       "\t& String⍰ & Int64 & Float64\\\\\n",
       "\t\\hline\n",
       "\t1 & Phoenix Suns & 39 & 0.0048869 \\\\\n",
       "\t2 & Brooklyn Nets & 38 & 0.0104702 \\\\\n",
       "\t3 & Indiana Pacers & 38 & 0.0416369 \\\\\n",
       "\t4 & Utah Jazz & 38 & 0.0750536 \\\\\n",
       "\t5 & Miami Heat & 37 & 0.0081369 \\\\\n",
       "\t6 & Charlotte Hornets & 33 & 0.0450536 \\\\\n",
       "\t7 & Detroit Pistons & 32 & 0.209554 \\\\\n",
       "\t8 & Denver Nuggets & 30 & 0.0046369 \\\\\n",
       "\t9 & Sacramento Kings & 29 & 0.00722024 \\\\\n",
       "\t10 & Orlando Magic & 25 & 0.0372202 \\\\\n",
       "\t11 & Los Angeles Lakers & 21 & 0.0614702 \\\\\n",
       "\t12 & Philadelphia 76ers & 18 & 0.25522 \\\\\n",
       "\t13 & New York Knicks & 17 & 0.16047 \\\\\n",
       "\t14 & Minnesota Timberwolves & 16 & 0.0789702 \\\\\n",
       "\\end{tabular}\n"
      ],
      "text/plain": [
       "14×3 DataFrame\n",
       "│ Row │ team                   │ wins  │ score      │\n",
       "│     │ \u001b[90mUnion{Missing, String}\u001b[39m │ \u001b[90mInt64\u001b[39m │ \u001b[90mFloat64\u001b[39m    │\n",
       "├─────┼────────────────────────┼───────┼────────────┤\n",
       "│ 1   │ Phoenix Suns           │ 39    │ 0.0048869  │\n",
       "│ 2   │ Brooklyn Nets          │ 38    │ 0.0104702  │\n",
       "│ 3   │ Indiana Pacers         │ 38    │ 0.0416369  │\n",
       "│ 4   │ Utah Jazz              │ 38    │ 0.0750536  │\n",
       "│ 5   │ Miami Heat             │ 37    │ 0.0081369  │\n",
       "│ 6   │ Charlotte Hornets      │ 33    │ 0.0450536  │\n",
       "│ 7   │ Detroit Pistons        │ 32    │ 0.209554   │\n",
       "│ 8   │ Denver Nuggets         │ 30    │ 0.0046369  │\n",
       "│ 9   │ Sacramento Kings       │ 29    │ 0.00722024 │\n",
       "│ 10  │ Orlando Magic          │ 25    │ 0.0372202  │\n",
       "│ 11  │ Los Angeles Lakers     │ 21    │ 0.0614702  │\n",
       "│ 12  │ Philadelphia 76ers     │ 18    │ 0.25522    │\n",
       "│ 13  │ New York Knicks        │ 17    │ 0.16047    │\n",
       "│ 14  │ Minnesota Timberwolves │ 16    │ 0.0789702  │"
      ]
     },
     "execution_count": 16,
     "metadata": {},
     "output_type": "execute_result"
    }
   ],
   "source": [
    "year = 2015 \n",
    "simulate_season(year)"
   ]
  },
  {
   "cell_type": "code",
   "execution_count": 2,
   "metadata": {},
   "outputs": [
    {
     "data": {
      "text/html": [
       "<table class=\"data-frame\"><thead><tr><th></th><th>team</th><th>id</th></tr><tr><th></th><th>String⍰</th><th>Int64⍰</th></tr></thead><tbody><p>23 rows × 2 columns</p><tr><th>1</th><td>Atlanta Hawks</td><td>1</td></tr><tr><th>2</th><td>Boston Celtics</td><td>2</td></tr><tr><th>3</th><td>Chicago Bulls</td><td>3</td></tr><tr><th>4</th><td>Cleveland Cavaliers</td><td>4</td></tr><tr><th>5</th><td>Dallas Mavericks</td><td>5</td></tr><tr><th>6</th><td>Denver Nuggets</td><td>6</td></tr><tr><th>7</th><td>Detroit Pistons</td><td>7</td></tr><tr><th>8</th><td>Golden State Warriors</td><td>8</td></tr><tr><th>9</th><td>Houston Rockets</td><td>9</td></tr><tr><th>10</th><td>Indiana Pacers</td><td>10</td></tr><tr><th>11</th><td>Kansas City Kings</td><td>11</td></tr><tr><th>12</th><td>Los Angeles Clippers</td><td>12</td></tr><tr><th>13</th><td>Los Angeles Lakers</td><td>13</td></tr><tr><th>14</th><td>Milwaukee Bucks</td><td>14</td></tr><tr><th>15</th><td>New Jersey Nets</td><td>15</td></tr><tr><th>16</th><td>New York Knicks</td><td>16</td></tr><tr><th>17</th><td>Philadelphia 76ers</td><td>17</td></tr><tr><th>18</th><td>Phoenix Suns</td><td>18</td></tr><tr><th>19</th><td>Portland Trail Blazers</td><td>19</td></tr><tr><th>20</th><td>San Antonio Spurs</td><td>20</td></tr><tr><th>21</th><td>Seattle SuperSonics</td><td>21</td></tr><tr><th>22</th><td>Utah Jazz</td><td>22</td></tr><tr><th>23</th><td>Washington Bullets</td><td>23</td></tr></tbody></table>"
      ],
      "text/latex": [
       "\\begin{tabular}{r|cc}\n",
       "\t& team & id\\\\\n",
       "\t\\hline\n",
       "\t& String⍰ & Int64⍰\\\\\n",
       "\t\\hline\n",
       "\t1 & Atlanta Hawks & 1 \\\\\n",
       "\t2 & Boston Celtics & 2 \\\\\n",
       "\t3 & Chicago Bulls & 3 \\\\\n",
       "\t4 & Cleveland Cavaliers & 4 \\\\\n",
       "\t5 & Dallas Mavericks & 5 \\\\\n",
       "\t6 & Denver Nuggets & 6 \\\\\n",
       "\t7 & Detroit Pistons & 7 \\\\\n",
       "\t8 & Golden State Warriors & 8 \\\\\n",
       "\t9 & Houston Rockets & 9 \\\\\n",
       "\t10 & Indiana Pacers & 10 \\\\\n",
       "\t11 & Kansas City Kings & 11 \\\\\n",
       "\t12 & Los Angeles Clippers & 12 \\\\\n",
       "\t13 & Los Angeles Lakers & 13 \\\\\n",
       "\t14 & Milwaukee Bucks & 14 \\\\\n",
       "\t15 & New Jersey Nets & 15 \\\\\n",
       "\t16 & New York Knicks & 16 \\\\\n",
       "\t17 & Philadelphia 76ers & 17 \\\\\n",
       "\t18 & Phoenix Suns & 18 \\\\\n",
       "\t19 & Portland Trail Blazers & 19 \\\\\n",
       "\t20 & San Antonio Spurs & 20 \\\\\n",
       "\t21 & Seattle SuperSonics & 21 \\\\\n",
       "\t22 & Utah Jazz & 22 \\\\\n",
       "\t23 & Washington Bullets & 23 \\\\\n",
       "\\end{tabular}\n"
      ],
      "text/plain": [
       "23×2 DataFrame\n",
       "│ Row │ team                   │ id     │\n",
       "│     │ \u001b[90mUnion{Missing, String}\u001b[39m │ \u001b[90mInt64⍰\u001b[39m │\n",
       "├─────┼────────────────────────┼────────┤\n",
       "│ 1   │ Atlanta Hawks          │ 1      │\n",
       "│ 2   │ Boston Celtics         │ 2      │\n",
       "│ 3   │ Chicago Bulls          │ 3      │\n",
       "│ 4   │ Cleveland Cavaliers    │ 4      │\n",
       "│ 5   │ Dallas Mavericks       │ 5      │\n",
       "│ 6   │ Denver Nuggets         │ 6      │\n",
       "│ 7   │ Detroit Pistons        │ 7      │\n",
       "│ 8   │ Golden State Warriors  │ 8      │\n",
       "│ 9   │ Houston Rockets        │ 9      │\n",
       "│ 10  │ Indiana Pacers         │ 10     │\n",
       "│ 11  │ Kansas City Kings      │ 11     │\n",
       "│ 12  │ Los Angeles Clippers   │ 12     │\n",
       "│ 13  │ Los Angeles Lakers     │ 13     │\n",
       "│ 14  │ Milwaukee Bucks        │ 14     │\n",
       "│ 15  │ New Jersey Nets        │ 15     │\n",
       "│ 16  │ New York Knicks        │ 16     │\n",
       "│ 17  │ Philadelphia 76ers     │ 17     │\n",
       "│ 18  │ Phoenix Suns           │ 18     │\n",
       "│ 19  │ Portland Trail Blazers │ 19     │\n",
       "│ 20  │ San Antonio Spurs      │ 20     │\n",
       "│ 21  │ Seattle SuperSonics    │ 21     │\n",
       "│ 22  │ Utah Jazz              │ 22     │\n",
       "│ 23  │ Washington Bullets     │ 23     │"
      ]
     },
     "execution_count": 2,
     "metadata": {},
     "output_type": "execute_result"
    }
   ],
   "source": [
    "#1985,1987,1988,1989\n",
    "year = 1985 \n",
    "team_id = CSV.read(string(\"/Users/evanmunro/Documents/Github/draft-policy/data/cleaned/teams_\",\n",
    "                            string(year),\".csv\"))\n",
    "season = CSV.read(string(\"/Users/evanmunro/Documents/Github/draft-policy/data/cleaned/season_\",year,\".csv\")) \n",
    "team_id"
   ]
  },
  {
   "cell_type": "code",
   "execution_count": 5,
   "metadata": {},
   "outputs": [
    {
     "data": {
      "text/html": [
       "<table class=\"data-frame\"><thead><tr><th></th><th>team</th><th>id</th></tr><tr><th></th><th>String⍰</th><th>Int64⍰</th></tr></thead><tbody><p>23 rows × 2 columns</p><tr><th>1</th><td>Washington Bullets</td><td>23</td></tr><tr><th>2</th><td>Utah Jazz</td><td>22</td></tr><tr><th>3</th><td>Seattle SuperSonics</td><td>21</td></tr><tr><th>4</th><td>San Antonio Spurs</td><td>20</td></tr><tr><th>5</th><td>Portland Trail Blazers</td><td>19</td></tr><tr><th>6</th><td>Phoenix Suns</td><td>18</td></tr><tr><th>7</th><td>Philadelphia 76ers</td><td>17</td></tr><tr><th>8</th><td>New York Knicks</td><td>16</td></tr><tr><th>9</th><td>New Jersey Nets</td><td>15</td></tr><tr><th>10</th><td>Milwaukee Bucks</td><td>14</td></tr><tr><th>11</th><td>Los Angeles Lakers</td><td>13</td></tr><tr><th>12</th><td>Los Angeles Clippers</td><td>12</td></tr><tr><th>13</th><td>Kansas City Kings</td><td>11</td></tr><tr><th>14</th><td>Indiana Pacers</td><td>10</td></tr><tr><th>15</th><td>Houston Rockets</td><td>9</td></tr><tr><th>16</th><td>Golden State Warriors</td><td>8</td></tr><tr><th>17</th><td>Detroit Pistons</td><td>7</td></tr><tr><th>18</th><td>Denver Nuggets</td><td>6</td></tr><tr><th>19</th><td>Dallas Mavericks</td><td>5</td></tr><tr><th>20</th><td>Cleveland Cavaliers</td><td>4</td></tr><tr><th>21</th><td>Chicago Bulls</td><td>3</td></tr><tr><th>22</th><td>Boston Celtics</td><td>2</td></tr><tr><th>23</th><td>Atlanta Hawks</td><td>1</td></tr></tbody></table>"
      ],
      "text/latex": [
       "\\begin{tabular}{r|cc}\n",
       "\t& team & id\\\\\n",
       "\t\\hline\n",
       "\t& String⍰ & Int64⍰\\\\\n",
       "\t\\hline\n",
       "\t1 & Washington Bullets & 23 \\\\\n",
       "\t2 & Utah Jazz & 22 \\\\\n",
       "\t3 & Seattle SuperSonics & 21 \\\\\n",
       "\t4 & San Antonio Spurs & 20 \\\\\n",
       "\t5 & Portland Trail Blazers & 19 \\\\\n",
       "\t6 & Phoenix Suns & 18 \\\\\n",
       "\t7 & Philadelphia 76ers & 17 \\\\\n",
       "\t8 & New York Knicks & 16 \\\\\n",
       "\t9 & New Jersey Nets & 15 \\\\\n",
       "\t10 & Milwaukee Bucks & 14 \\\\\n",
       "\t11 & Los Angeles Lakers & 13 \\\\\n",
       "\t12 & Los Angeles Clippers & 12 \\\\\n",
       "\t13 & Kansas City Kings & 11 \\\\\n",
       "\t14 & Indiana Pacers & 10 \\\\\n",
       "\t15 & Houston Rockets & 9 \\\\\n",
       "\t16 & Golden State Warriors & 8 \\\\\n",
       "\t17 & Detroit Pistons & 7 \\\\\n",
       "\t18 & Denver Nuggets & 6 \\\\\n",
       "\t19 & Dallas Mavericks & 5 \\\\\n",
       "\t20 & Cleveland Cavaliers & 4 \\\\\n",
       "\t21 & Chicago Bulls & 3 \\\\\n",
       "\t22 & Boston Celtics & 2 \\\\\n",
       "\t23 & Atlanta Hawks & 1 \\\\\n",
       "\\end{tabular}\n"
      ],
      "text/plain": [
       "23×2 DataFrame\n",
       "│ Row │ team                   │ id     │\n",
       "│     │ \u001b[90mUnion{Missing, String}\u001b[39m │ \u001b[90mInt64⍰\u001b[39m │\n",
       "├─────┼────────────────────────┼────────┤\n",
       "│ 1   │ Washington Bullets     │ 23     │\n",
       "│ 2   │ Utah Jazz              │ 22     │\n",
       "│ 3   │ Seattle SuperSonics    │ 21     │\n",
       "│ 4   │ San Antonio Spurs      │ 20     │\n",
       "│ 5   │ Portland Trail Blazers │ 19     │\n",
       "│ 6   │ Phoenix Suns           │ 18     │\n",
       "│ 7   │ Philadelphia 76ers     │ 17     │\n",
       "│ 8   │ New York Knicks        │ 16     │\n",
       "│ 9   │ New Jersey Nets        │ 15     │\n",
       "│ 10  │ Milwaukee Bucks        │ 14     │\n",
       "│ 11  │ Los Angeles Lakers     │ 13     │\n",
       "│ 12  │ Los Angeles Clippers   │ 12     │\n",
       "│ 13  │ Kansas City Kings      │ 11     │\n",
       "│ 14  │ Indiana Pacers         │ 10     │\n",
       "│ 15  │ Houston Rockets        │ 9      │\n",
       "│ 16  │ Golden State Warriors  │ 8      │\n",
       "│ 17  │ Detroit Pistons        │ 7      │\n",
       "│ 18  │ Denver Nuggets         │ 6      │\n",
       "│ 19  │ Dallas Mavericks       │ 5      │\n",
       "│ 20  │ Cleveland Cavaliers    │ 4      │\n",
       "│ 21  │ Chicago Bulls          │ 3      │\n",
       "│ 22  │ Boston Celtics         │ 2      │\n",
       "│ 23  │ Atlanta Hawks          │ 1      │"
      ]
     },
     "execution_count": 5,
     "metadata": {},
     "output_type": "execute_result"
    }
   ],
   "source": [
    "sort!(team_id,:id,rev=true)"
   ]
  },
  {
   "cell_type": "code",
   "execution_count": 16,
   "metadata": {},
   "outputs": [
    {
     "data": {
      "text/plain": [
       "simulate_season (generic function with 2 methods)"
      ]
     },
     "execution_count": 16,
     "metadata": {},
     "output_type": "execute_result"
    }
   ],
   "source": [
    "function simulate_season(year,mult=10)\n",
    "    team_id = CSV.read(string(\"/Users/evanmunro/Documents/Github/draft-policy/data/cleaned/teams_\",\n",
    "                            string(year),\".csv\"))\n",
    "    season = CSV.read(string(\"/Users/evanmunro/Documents/Github/draft-policy/data/cleaned/season_\",year,\".csv\"))\n",
    "    matches = convert(Matrix, season[[:hID,:aID]])\n",
    "    wins = convert(Array, season[:win])\n",
    "    teams = convert(Array,team_id[:id])\n",
    "    s = Season(teams,matches)\n",
    "    record,_=calculate_draft_rule(s,wins,mult,16)\n",
    "    stoptime=record.stop\n",
    "    end_wins = record.cwins[:,size(record.cwins,2)]\n",
    "    end_draft = record.draft_prob[:,size(record.draft_prob,2)]\n",
    "    print(\"got here\")\n",
    "    df = DataFrame(id = copy(team_id[:id]),team = copy(team_id[:team]),wins = copy(end_wins),score = copy(end_draft))\n",
    "    sort!(df, (:wins), rev=(false))\n",
    "    bottom_id = df[:id][1:3]\n",
    "    bottom_name = df[:team][1:3]\n",
    "    prob = record.draft_prob[bottom_id,:]\n",
    "    wins = record.cwins[bottom_id,:]\n",
    "    plot(transpose(prob[:,1:stoptime]),label=bottom_name,\n",
    "        size=(800,250),\n",
    "        linewidth=4,legend=:topright,xlabel=\"Game\",title=\"Evolution of Draft Probability\")\n",
    "    savefig(string(\"prob\",string(year),\".pdf\"))\n",
    "\n",
    "    plot(transpose(wins[:,1:stoptime]),label=vcat(bottom_name,[\"Stopping Time\"]),\n",
    "        size=(800,250),\n",
    "        linewidth=4,legend=:topleft,title=\"Cumulative Wins\")\n",
    "    vline!([stoptime],color=\"black\",label=vcat(bottom_name,[\"Stopping Time\"]))\n",
    "    savefig(string(\"wins\",string(year),\".pdf\"))\n",
    "\n",
    "    CSV.write(string(\"record\",string(year),\".csv\"),df)\n",
    "    df \n",
    "end"
   ]
  },
  {
   "cell_type": "code",
   "execution_count": 17,
   "metadata": {},
   "outputs": [
    {
     "name": "stdout",
     "output_type": "stream",
     "text": [
      "10\n",
      "16\n",
      "not calculating\n",
      "got here"
     ]
    },
    {
     "data": {
      "text/html": [
       "<table class=\"data-frame\"><thead><tr><th></th><th>id</th><th>team</th><th>wins</th><th>score</th></tr><tr><th></th><th>Int64⍰</th><th>String⍰</th><th>Int64</th><th>Float64</th></tr></thead><tbody><p>23 rows × 4 columns</p><tr><th>1</th><td>15</td><td>New York Knicks</td><td>23</td><td>0.0333333</td></tr><tr><th>2</th><td>10</td><td>Indiana Pacers</td><td>26</td><td>0.03</td></tr><tr><th>3</th><td>4</td><td>Cleveland Cavaliers</td><td>29</td><td>0.015</td></tr><tr><th>4</th><td>3</td><td>Chicago Bulls</td><td>30</td><td>0.0475</td></tr><tr><th>5</th><td>8</td><td>Golden State Warriors</td><td>30</td><td>0.05</td></tr><tr><th>6</th><td>21</td><td>Seattle SuperSonics</td><td>31</td><td>0.0795</td></tr><tr><th>7</th><td>11</td><td>Los Angeles Clippers</td><td>32</td><td>0.0566667</td></tr><tr><th>8</th><td>17</td><td>Phoenix Suns</td><td>32</td><td>0.0125</td></tr><tr><th>9</th><td>20</td><td>San Antonio Spurs</td><td>35</td><td>0.025</td></tr><tr><th>10</th><td>19</td><td>Sacramento Kings</td><td>37</td><td>0.0708333</td></tr><tr><th>11</th><td>14</td><td>New Jersey Nets</td><td>39</td><td>0.055</td></tr><tr><th>12</th><td>23</td><td>Washington Bullets</td><td>39</td><td>0.015</td></tr><tr><th>13</th><td>18</td><td>Portland Trail Blazers</td><td>40</td><td>0.0483333</td></tr><tr><th>14</th><td>22</td><td>Utah Jazz</td><td>42</td><td>0.02</td></tr><tr><th>15</th><td>5</td><td>Dallas Mavericks</td><td>44</td><td>0.0553333</td></tr><tr><th>16</th><td>7</td><td>Detroit Pistons</td><td>46</td><td>0.0853333</td></tr><tr><th>17</th><td>6</td><td>Denver Nuggets</td><td>47</td><td>0.0833333</td></tr><tr><th>18</th><td>1</td><td>Atlanta Hawks</td><td>50</td><td>0.03</td></tr><tr><th>19</th><td>9</td><td>Houston Rockets</td><td>51</td><td>0.017</td></tr><tr><th>20</th><td>16</td><td>Philadelphia 76ers</td><td>54</td><td>0.035</td></tr><tr><th>21</th><td>13</td><td>Milwaukee Bucks</td><td>57</td><td>0.055</td></tr><tr><th>22</th><td>12</td><td>Los Angeles Lakers</td><td>62</td><td>0.042</td></tr><tr><th>23</th><td>2</td><td>Boston Celtics</td><td>67</td><td>0.0383333</td></tr></tbody></table>"
      ],
      "text/latex": [
       "\\begin{tabular}{r|cccc}\n",
       "\t& id & team & wins & score\\\\\n",
       "\t\\hline\n",
       "\t& Int64⍰ & String⍰ & Int64 & Float64\\\\\n",
       "\t\\hline\n",
       "\t1 & 15 & New York Knicks & 23 & 0.0333333 \\\\\n",
       "\t2 & 10 & Indiana Pacers & 26 & 0.03 \\\\\n",
       "\t3 & 4 & Cleveland Cavaliers & 29 & 0.015 \\\\\n",
       "\t4 & 3 & Chicago Bulls & 30 & 0.0475 \\\\\n",
       "\t5 & 8 & Golden State Warriors & 30 & 0.05 \\\\\n",
       "\t6 & 21 & Seattle SuperSonics & 31 & 0.0795 \\\\\n",
       "\t7 & 11 & Los Angeles Clippers & 32 & 0.0566667 \\\\\n",
       "\t8 & 17 & Phoenix Suns & 32 & 0.0125 \\\\\n",
       "\t9 & 20 & San Antonio Spurs & 35 & 0.025 \\\\\n",
       "\t10 & 19 & Sacramento Kings & 37 & 0.0708333 \\\\\n",
       "\t11 & 14 & New Jersey Nets & 39 & 0.055 \\\\\n",
       "\t12 & 23 & Washington Bullets & 39 & 0.015 \\\\\n",
       "\t13 & 18 & Portland Trail Blazers & 40 & 0.0483333 \\\\\n",
       "\t14 & 22 & Utah Jazz & 42 & 0.02 \\\\\n",
       "\t15 & 5 & Dallas Mavericks & 44 & 0.0553333 \\\\\n",
       "\t16 & 7 & Detroit Pistons & 46 & 0.0853333 \\\\\n",
       "\t17 & 6 & Denver Nuggets & 47 & 0.0833333 \\\\\n",
       "\t18 & 1 & Atlanta Hawks & 50 & 0.03 \\\\\n",
       "\t19 & 9 & Houston Rockets & 51 & 0.017 \\\\\n",
       "\t20 & 16 & Philadelphia 76ers & 54 & 0.035 \\\\\n",
       "\t21 & 13 & Milwaukee Bucks & 57 & 0.055 \\\\\n",
       "\t22 & 12 & Los Angeles Lakers & 62 & 0.042 \\\\\n",
       "\t23 & 2 & Boston Celtics & 67 & 0.0383333 \\\\\n",
       "\\end{tabular}\n"
      ],
      "text/plain": [
       "23×4 DataFrame\n",
       "│ Row │ id     │ team                   │ wins  │ score     │\n",
       "│     │ \u001b[90mInt64⍰\u001b[39m │ \u001b[90mUnion{Missing, String}\u001b[39m │ \u001b[90mInt64\u001b[39m │ \u001b[90mFloat64\u001b[39m   │\n",
       "├─────┼────────┼────────────────────────┼───────┼───────────┤\n",
       "│ 1   │ 15     │ New York Knicks        │ 23    │ 0.0333333 │\n",
       "│ 2   │ 10     │ Indiana Pacers         │ 26    │ 0.03      │\n",
       "│ 3   │ 4      │ Cleveland Cavaliers    │ 29    │ 0.015     │\n",
       "│ 4   │ 3      │ Chicago Bulls          │ 30    │ 0.0475    │\n",
       "│ 5   │ 8      │ Golden State Warriors  │ 30    │ 0.05      │\n",
       "│ 6   │ 21     │ Seattle SuperSonics    │ 31    │ 0.0795    │\n",
       "│ 7   │ 11     │ Los Angeles Clippers   │ 32    │ 0.0566667 │\n",
       "│ 8   │ 17     │ Phoenix Suns           │ 32    │ 0.0125    │\n",
       "│ 9   │ 20     │ San Antonio Spurs      │ 35    │ 0.025     │\n",
       "│ 10  │ 19     │ Sacramento Kings       │ 37    │ 0.0708333 │\n",
       "│ 11  │ 14     │ New Jersey Nets        │ 39    │ 0.055     │\n",
       "│ 12  │ 23     │ Washington Bullets     │ 39    │ 0.015     │\n",
       "│ 13  │ 18     │ Portland Trail Blazers │ 40    │ 0.0483333 │\n",
       "│ 14  │ 22     │ Utah Jazz              │ 42    │ 0.02      │\n",
       "│ 15  │ 5      │ Dallas Mavericks       │ 44    │ 0.0553333 │\n",
       "│ 16  │ 7      │ Detroit Pistons        │ 46    │ 0.0853333 │\n",
       "│ 17  │ 6      │ Denver Nuggets         │ 47    │ 0.0833333 │\n",
       "│ 18  │ 1      │ Atlanta Hawks          │ 50    │ 0.03      │\n",
       "│ 19  │ 9      │ Houston Rockets        │ 51    │ 0.017     │\n",
       "│ 20  │ 16     │ Philadelphia 76ers     │ 54    │ 0.035     │\n",
       "│ 21  │ 13     │ Milwaukee Bucks        │ 57    │ 0.055     │\n",
       "│ 22  │ 12     │ Los Angeles Lakers     │ 62    │ 0.042     │\n",
       "│ 23  │ 2      │ Boston Celtics         │ 67    │ 0.0383333 │"
      ]
     },
     "execution_count": 17,
     "metadata": {},
     "output_type": "execute_result"
    }
   ],
   "source": [
    "simulate_season(1986)"
   ]
  },
  {
   "cell_type": "code",
   "execution_count": 119,
   "metadata": {},
   "outputs": [
    {
     "name": "stdout",
     "output_type": "stream",
     "text": [
      "1.05\n",
      "16\n",
      "97\n"
     ]
    },
    {
     "data": {
      "text/html": [
       "<table class=\"data-frame\"><thead><tr><th></th><th>team</th><th>wins</th><th>score</th></tr><tr><th></th><th>String⍰</th><th>Int64</th><th>Float64</th></tr></thead><tbody><p>7 rows × 3 columns</p><tr><th>1</th><td>Atlanta Hawks</td><td>34</td><td>0.131667</td></tr><tr><th>2</th><td>Kansas City Kings</td><td>31</td><td>0.15875</td></tr><tr><th>3</th><td>Los Angeles Clippers</td><td>31</td><td>0.111583</td></tr><tr><th>4</th><td>Seattle SuperSonics</td><td>31</td><td>0.136583</td></tr><tr><th>5</th><td>New York Knicks</td><td>24</td><td>0.1435</td></tr><tr><th>6</th><td>Golden State Warriors</td><td>22</td><td>0.12825</td></tr><tr><th>7</th><td>Indiana Pacers</td><td>22</td><td>0.189667</td></tr></tbody></table>"
      ],
      "text/latex": [
       "\\begin{tabular}{r|ccc}\n",
       "\t& team & wins & score\\\\\n",
       "\t\\hline\n",
       "\t& String⍰ & Int64 & Float64\\\\\n",
       "\t\\hline\n",
       "\t1 & Atlanta Hawks & 34 & 0.131667 \\\\\n",
       "\t2 & Kansas City Kings & 31 & 0.15875 \\\\\n",
       "\t3 & Los Angeles Clippers & 31 & 0.111583 \\\\\n",
       "\t4 & Seattle SuperSonics & 31 & 0.136583 \\\\\n",
       "\t5 & New York Knicks & 24 & 0.1435 \\\\\n",
       "\t6 & Golden State Warriors & 22 & 0.12825 \\\\\n",
       "\t7 & Indiana Pacers & 22 & 0.189667 \\\\\n",
       "\\end{tabular}\n"
      ],
      "text/plain": [
       "7×3 DataFrame\n",
       "│ Row │ team                  │ wins  │ score    │\n",
       "│     │ \u001b[90mString⍰\u001b[39m               │ \u001b[90mInt64\u001b[39m │ \u001b[90mFloat64\u001b[39m  │\n",
       "├─────┼───────────────────────┼───────┼──────────┤\n",
       "│ 1   │ Atlanta Hawks         │ 34    │ 0.131667 │\n",
       "│ 2   │ Kansas City Kings     │ 31    │ 0.15875  │\n",
       "│ 3   │ Los Angeles Clippers  │ 31    │ 0.111583 │\n",
       "│ 4   │ Seattle SuperSonics   │ 31    │ 0.136583 │\n",
       "│ 5   │ New York Knicks       │ 24    │ 0.1435   │\n",
       "│ 6   │ Golden State Warriors │ 22    │ 0.12825  │\n",
       "│ 7   │ Indiana Pacers        │ 22    │ 0.189667 │"
      ]
     },
     "execution_count": 119,
     "metadata": {},
     "output_type": "execute_result"
    }
   ],
   "source": [
    "matches = convert(Matrix, season[[:hID,:aID]])\n",
    "wins = convert(Array, season[:win])\n",
    "teams = convert(Array,team_id[:id])\n",
    "s = Season(teams,matches)\n",
    "#0.5 had good results \n",
    "#wins\n",
    "record=calculate_draft_rule(s,wins,1.05,16)\n",
    "stoptime=record.stop\n",
    "println(record.stop)\n",
    "end_wins = record.cwins[:,size(record.cwins,2)]\n",
    "end_draft = record.draft_prob[:,size(record.draft_prob,2)] \n",
    "\n",
    "df = DataFrame(team = copy(team_id[:team]),wins = copy(end_wins),score = copy(end_draft))\n",
    "sort!(df, (:wins), rev=(true))\n",
    "\n",
    "added_amt = sum(df[1:16,:score])/(length(teams)-16)\n",
    "df[17:length(teams),:score] = df[17:length(teams),:score] .+ added_amt \n",
    "df[1:16,:score] =  0 \n",
    "df[17:length(teams),:]\n",
    "# reduce at 69 when multiple=5"
   ]
  },
  {
   "cell_type": "code",
   "execution_count": 126,
   "metadata": {},
   "outputs": [],
   "source": [
    "bottom3 = [16,8,10]\n",
    "prob = record.draft_prob[bottom3,:]\n",
    "wins = record.cwins[bottom3,:]\n",
    "plot(transpose(prob[:,1:250]).+added_amt,label=[\"Knicks\",\"Warriors\",\"Spurs\"],\n",
    "    size=(800,250),\n",
    "    #ylims=(0.05,0.3),\n",
    "    linewidth=4,legend=:topright,xlabel=\"Game\",title=\"Evolution of Draft Probability\")\n",
    "savefig(\"prob85.pdf\")"
   ]
  },
  {
   "cell_type": "code",
   "execution_count": 121,
   "metadata": {},
   "outputs": [],
   "source": [
    "plot(transpose(wins[:,1:250]),label=[\"Knicks\",\"Warriors\",\"Spurs\",\"Stopping Time\"],\n",
    "    size=(800,250),\n",
    "    linewidth=4,legend=:topleft,title=\"Cumulative Wins\")\n",
    "vline!([stoptime],color=\"black\",label=[\"Knicks\",\"Warriors\",\"Spurs\",\"Stopping Time\"])\n",
    "savefig(\"wins85.pdf\")"
   ]
  },
  {
   "cell_type": "code",
   "execution_count": 94,
   "metadata": {},
   "outputs": [
    {
     "data": {
      "text/html": [
       "<table class=\"data-frame\"><thead><tr><th></th><th>team</th><th>id</th></tr><tr><th></th><th>String⍰</th><th>Int64⍰</th></tr></thead><tbody><p>25 rows × 2 columns</p><tr><th>1</th><td>Atlanta Hawks</td><td>1</td></tr><tr><th>2</th><td>Boston Celtics</td><td>2</td></tr><tr><th>3</th><td>Charlotte Hornets</td><td>3</td></tr><tr><th>4</th><td>Chicago Bulls</td><td>4</td></tr><tr><th>5</th><td>Cleveland Cavaliers</td><td>5</td></tr><tr><th>6</th><td>Dallas Mavericks</td><td>6</td></tr><tr><th>7</th><td>Denver Nuggets</td><td>7</td></tr><tr><th>8</th><td>Detroit Pistons</td><td>8</td></tr><tr><th>9</th><td>Golden State Warriors</td><td>9</td></tr><tr><th>10</th><td>Houston Rockets</td><td>10</td></tr><tr><th>11</th><td>Indiana Pacers</td><td>11</td></tr><tr><th>12</th><td>Los Angeles Clippers</td><td>12</td></tr><tr><th>13</th><td>Los Angeles Lakers</td><td>13</td></tr><tr><th>14</th><td>Miami Heat</td><td>14</td></tr><tr><th>15</th><td>Milwaukee Bucks</td><td>15</td></tr><tr><th>16</th><td>New Jersey Nets</td><td>16</td></tr><tr><th>17</th><td>New York Knicks</td><td>17</td></tr><tr><th>18</th><td>Philadelphia 76ers</td><td>18</td></tr><tr><th>19</th><td>Phoenix Suns</td><td>19</td></tr><tr><th>20</th><td>Portland Trail Blazers</td><td>20</td></tr><tr><th>21</th><td>Sacramento Kings</td><td>21</td></tr><tr><th>22</th><td>San Antonio Spurs</td><td>22</td></tr><tr><th>23</th><td>Seattle SuperSonics</td><td>23</td></tr><tr><th>24</th><td>Utah Jazz</td><td>24</td></tr><tr><th>25</th><td>Washington Bullets</td><td>25</td></tr></tbody></table>"
      ],
      "text/latex": [
       "\\begin{tabular}{r|cc}\n",
       "\t& team & id\\\\\n",
       "\t\\hline\n",
       "\t& String⍰ & Int64⍰\\\\\n",
       "\t\\hline\n",
       "\t1 & Atlanta Hawks & 1 \\\\\n",
       "\t2 & Boston Celtics & 2 \\\\\n",
       "\t3 & Charlotte Hornets & 3 \\\\\n",
       "\t4 & Chicago Bulls & 4 \\\\\n",
       "\t5 & Cleveland Cavaliers & 5 \\\\\n",
       "\t6 & Dallas Mavericks & 6 \\\\\n",
       "\t7 & Denver Nuggets & 7 \\\\\n",
       "\t8 & Detroit Pistons & 8 \\\\\n",
       "\t9 & Golden State Warriors & 9 \\\\\n",
       "\t10 & Houston Rockets & 10 \\\\\n",
       "\t11 & Indiana Pacers & 11 \\\\\n",
       "\t12 & Los Angeles Clippers & 12 \\\\\n",
       "\t13 & Los Angeles Lakers & 13 \\\\\n",
       "\t14 & Miami Heat & 14 \\\\\n",
       "\t15 & Milwaukee Bucks & 15 \\\\\n",
       "\t16 & New Jersey Nets & 16 \\\\\n",
       "\t17 & New York Knicks & 17 \\\\\n",
       "\t18 & Philadelphia 76ers & 18 \\\\\n",
       "\t19 & Phoenix Suns & 19 \\\\\n",
       "\t20 & Portland Trail Blazers & 20 \\\\\n",
       "\t21 & Sacramento Kings & 21 \\\\\n",
       "\t22 & San Antonio Spurs & 22 \\\\\n",
       "\t23 & Seattle SuperSonics & 23 \\\\\n",
       "\t24 & Utah Jazz & 24 \\\\\n",
       "\t25 & Washington Bullets & 25 \\\\\n",
       "\\end{tabular}\n"
      ],
      "text/plain": [
       "25×2 DataFrame\n",
       "│ Row │ team                   │ id     │\n",
       "│     │ \u001b[90mUnion{Missing, String}\u001b[39m │ \u001b[90mInt64⍰\u001b[39m │\n",
       "├─────┼────────────────────────┼────────┤\n",
       "│ 1   │ Atlanta Hawks          │ 1      │\n",
       "│ 2   │ Boston Celtics         │ 2      │\n",
       "│ 3   │ Charlotte Hornets      │ 3      │\n",
       "│ 4   │ Chicago Bulls          │ 4      │\n",
       "│ 5   │ Cleveland Cavaliers    │ 5      │\n",
       "│ 6   │ Dallas Mavericks       │ 6      │\n",
       "│ 7   │ Denver Nuggets         │ 7      │\n",
       "│ 8   │ Detroit Pistons        │ 8      │\n",
       "│ 9   │ Golden State Warriors  │ 9      │\n",
       "│ 10  │ Houston Rockets        │ 10     │\n",
       "⋮\n",
       "│ 15  │ Milwaukee Bucks        │ 15     │\n",
       "│ 16  │ New Jersey Nets        │ 16     │\n",
       "│ 17  │ New York Knicks        │ 17     │\n",
       "│ 18  │ Philadelphia 76ers     │ 18     │\n",
       "│ 19  │ Phoenix Suns           │ 19     │\n",
       "│ 20  │ Portland Trail Blazers │ 20     │\n",
       "│ 21  │ Sacramento Kings       │ 21     │\n",
       "│ 22  │ San Antonio Spurs      │ 22     │\n",
       "│ 23  │ Seattle SuperSonics    │ 23     │\n",
       "│ 24  │ Utah Jazz              │ 24     │\n",
       "│ 25  │ Washington Bullets     │ 25     │"
      ]
     },
     "execution_count": 94,
     "metadata": {},
     "output_type": "execute_result"
    }
   ],
   "source": [
    "year = 1989\n",
    "team_id = CSV.read(string(\"/Users/evanmunro/Documents/Github/draft-policy/data/cleaned/teams_\",\n",
    "                            string(year),\".csv\"))\n",
    "season = CSV.read(string(\"/Users/evanmunro/Documents/Github/draft-policy/data/cleaned/season_\",year,\".csv\")) \n",
    "team_id"
   ]
  },
  {
   "cell_type": "code",
   "execution_count": 99,
   "metadata": {},
   "outputs": [
    {
     "name": "stdout",
     "output_type": "stream",
     "text": [
      "15\n",
      "16\n",
      "333\n"
     ]
    },
    {
     "data": {
      "text/html": [
       "<table class=\"data-frame\"><thead><tr><th></th><th>team</th><th>wins</th><th>score</th></tr><tr><th></th><th>String⍰</th><th>Int64</th><th>Float64</th></tr></thead><tbody><p>9 rows × 3 columns</p><tr><th>1</th><td>Portland Trail Blazers</td><td>39</td><td>0.00868519</td></tr><tr><th>2</th><td>Dallas Mavericks</td><td>38</td><td>0.00868519</td></tr><tr><th>3</th><td>Indiana Pacers</td><td>28</td><td>0.216352</td></tr><tr><th>4</th><td>Sacramento Kings</td><td>27</td><td>0.118019</td></tr><tr><th>5</th><td>New Jersey Nets</td><td>26</td><td>0.0136852</td></tr><tr><th>6</th><td>Los Angeles Clippers</td><td>21</td><td>0.0323519</td></tr><tr><th>7</th><td>San Antonio Spurs</td><td>21</td><td>0.0883519</td></tr><tr><th>8</th><td>Charlotte Hornets</td><td>20</td><td>0.0788519</td></tr><tr><th>9</th><td>Miami Heat</td><td>15</td><td>0.435019</td></tr></tbody></table>"
      ],
      "text/latex": [
       "\\begin{tabular}{r|ccc}\n",
       "\t& team & wins & score\\\\\n",
       "\t\\hline\n",
       "\t& String⍰ & Int64 & Float64\\\\\n",
       "\t\\hline\n",
       "\t1 & Portland Trail Blazers & 39 & 0.00868519 \\\\\n",
       "\t2 & Dallas Mavericks & 38 & 0.00868519 \\\\\n",
       "\t3 & Indiana Pacers & 28 & 0.216352 \\\\\n",
       "\t4 & Sacramento Kings & 27 & 0.118019 \\\\\n",
       "\t5 & New Jersey Nets & 26 & 0.0136852 \\\\\n",
       "\t6 & Los Angeles Clippers & 21 & 0.0323519 \\\\\n",
       "\t7 & San Antonio Spurs & 21 & 0.0883519 \\\\\n",
       "\t8 & Charlotte Hornets & 20 & 0.0788519 \\\\\n",
       "\t9 & Miami Heat & 15 & 0.435019 \\\\\n",
       "\\end{tabular}\n"
      ],
      "text/plain": [
       "9×3 DataFrame\n",
       "│ Row │ team                   │ wins  │ score      │\n",
       "│     │ \u001b[90mUnion{Missing, String}\u001b[39m │ \u001b[90mInt64\u001b[39m │ \u001b[90mFloat64\u001b[39m    │\n",
       "├─────┼────────────────────────┼───────┼────────────┤\n",
       "│ 1   │ Portland Trail Blazers │ 39    │ 0.00868519 │\n",
       "│ 2   │ Dallas Mavericks       │ 38    │ 0.00868519 │\n",
       "│ 3   │ Indiana Pacers         │ 28    │ 0.216352   │\n",
       "│ 4   │ Sacramento Kings       │ 27    │ 0.118019   │\n",
       "│ 5   │ New Jersey Nets        │ 26    │ 0.0136852  │\n",
       "│ 6   │ Los Angeles Clippers   │ 21    │ 0.0323519  │\n",
       "│ 7   │ San Antonio Spurs      │ 21    │ 0.0883519  │\n",
       "│ 8   │ Charlotte Hornets      │ 20    │ 0.0788519  │\n",
       "│ 9   │ Miami Heat             │ 15    │ 0.435019   │"
      ]
     },
     "execution_count": 99,
     "metadata": {},
     "output_type": "execute_result"
    }
   ],
   "source": [
    "matches = convert(Matrix, season[[:hID,:aID]])\n",
    "wins = convert(Array, season[:win])\n",
    "teams = convert(Array,team_id[:id])\n",
    "s = Season(teams,matches)\n",
    "#0.5 had good results \n",
    "#wins\n",
    "record=calculate_draft_rule(s,wins,15,16)\n",
    "println(record.stop)\n",
    "end_wins = record.cwins[:,size(record.cwins,2)]\n",
    "end_draft = record.draft_prob[:,size(record.draft_prob,2)] \n",
    "df = DataFrame(team = copy(team_id[:team]),wins = copy(end_wins),score = copy(end_draft))\n",
    "sort!(df, (:wins), rev=(true))\n",
    "\n",
    "added_amt = sum(df[1:16,:score])/(length(teams)-16)\n",
    "df[17:length(teams),:score] = df[17:length(teams),:score] .+ added_amt \n",
    "df[1:16,:score] =  0 \n",
    "df[17:length(teams),:]"
   ]
  },
  {
   "cell_type": "code",
   "execution_count": 104,
   "metadata": {},
   "outputs": [],
   "source": [
    "bottom3 = [14,3,22]\n",
    "prob = record.draft_prob[bottom3,:]\n",
    "wins = record.cwins[bottom3,:]\n",
    "plot(transpose(prob[:,1:500]).+added_amt,label=[\"Heat\",\"Hornets\",\"Spurs\"],\n",
    "    size=(800,250), linewidth=4,\n",
    "    legend=:topleft,xlabel=\"Game\",title=\"Evolution of Draft Probability\")\n",
    "savefig(\"prob89.pdf\")"
   ]
  },
  {
   "cell_type": "code",
   "execution_count": 105,
   "metadata": {},
   "outputs": [],
   "source": [
    "plot(transpose(wins[:,1:500]),label=[\"Heat\",\"Hornets\",\"Spurs\",\"Stopping Time\"],\n",
    "    linewidth=4,size=(800,250),\n",
    "    legend=:topleft,title=\"Cumulative Wins\")\n",
    "vline!([333],color=\"black\",label=[\"Heat\",\"Hornets\",\"Spurs\",\"Stopping Time\"])\n",
    "savefig(\"wins89.pdf\")"
   ]
  },
  {
   "cell_type": "code",
   "execution_count": 4,
   "metadata": {},
   "outputs": [
    {
     "data": {
      "text/html": [
       "<table class=\"data-frame\"><thead><tr><th></th><th>team</th><th>id</th></tr><tr><th></th><th>String⍰</th><th>Int64⍰</th></tr></thead><tbody><p>23 rows × 2 columns</p><tr><th>1</th><td>Atlanta Hawks</td><td>1</td></tr><tr><th>2</th><td>Boston Celtics</td><td>2</td></tr><tr><th>3</th><td>Chicago Bulls</td><td>3</td></tr><tr><th>4</th><td>Cleveland Cavaliers</td><td>4</td></tr><tr><th>5</th><td>Dallas Mavericks</td><td>5</td></tr><tr><th>6</th><td>Denver Nuggets</td><td>6</td></tr><tr><th>7</th><td>Detroit Pistons</td><td>7</td></tr><tr><th>8</th><td>Golden State Warriors</td><td>8</td></tr><tr><th>9</th><td>Houston Rockets</td><td>9</td></tr><tr><th>10</th><td>Indiana Pacers</td><td>10</td></tr><tr><th>11</th><td>Los Angeles Clippers</td><td>11</td></tr><tr><th>12</th><td>Los Angeles Lakers</td><td>12</td></tr><tr><th>13</th><td>Milwaukee Bucks</td><td>13</td></tr><tr><th>14</th><td>New Jersey Nets</td><td>14</td></tr><tr><th>15</th><td>New York Knicks</td><td>15</td></tr><tr><th>16</th><td>Philadelphia 76ers</td><td>16</td></tr><tr><th>17</th><td>Phoenix Suns</td><td>17</td></tr><tr><th>18</th><td>Portland Trail Blazers</td><td>18</td></tr><tr><th>19</th><td>Sacramento Kings</td><td>19</td></tr><tr><th>20</th><td>San Antonio Spurs</td><td>20</td></tr><tr><th>21</th><td>Seattle SuperSonics</td><td>21</td></tr><tr><th>22</th><td>Utah Jazz</td><td>22</td></tr><tr><th>23</th><td>Washington Bullets</td><td>23</td></tr></tbody></table>"
      ],
      "text/latex": [
       "\\begin{tabular}{r|cc}\n",
       "\t& team & id\\\\\n",
       "\t\\hline\n",
       "\t& String⍰ & Int64⍰\\\\\n",
       "\t\\hline\n",
       "\t1 & Atlanta Hawks & 1 \\\\\n",
       "\t2 & Boston Celtics & 2 \\\\\n",
       "\t3 & Chicago Bulls & 3 \\\\\n",
       "\t4 & Cleveland Cavaliers & 4 \\\\\n",
       "\t5 & Dallas Mavericks & 5 \\\\\n",
       "\t6 & Denver Nuggets & 6 \\\\\n",
       "\t7 & Detroit Pistons & 7 \\\\\n",
       "\t8 & Golden State Warriors & 8 \\\\\n",
       "\t9 & Houston Rockets & 9 \\\\\n",
       "\t10 & Indiana Pacers & 10 \\\\\n",
       "\t11 & Los Angeles Clippers & 11 \\\\\n",
       "\t12 & Los Angeles Lakers & 12 \\\\\n",
       "\t13 & Milwaukee Bucks & 13 \\\\\n",
       "\t14 & New Jersey Nets & 14 \\\\\n",
       "\t15 & New York Knicks & 15 \\\\\n",
       "\t16 & Philadelphia 76ers & 16 \\\\\n",
       "\t17 & Phoenix Suns & 17 \\\\\n",
       "\t18 & Portland Trail Blazers & 18 \\\\\n",
       "\t19 & Sacramento Kings & 19 \\\\\n",
       "\t20 & San Antonio Spurs & 20 \\\\\n",
       "\t21 & Seattle SuperSonics & 21 \\\\\n",
       "\t22 & Utah Jazz & 22 \\\\\n",
       "\t23 & Washington Bullets & 23 \\\\\n",
       "\\end{tabular}\n"
      ],
      "text/plain": [
       "23×2 DataFrame\n",
       "│ Row │ team                   │ id     │\n",
       "│     │ \u001b[90mUnion{Missing, String}\u001b[39m │ \u001b[90mInt64⍰\u001b[39m │\n",
       "├─────┼────────────────────────┼────────┤\n",
       "│ 1   │ Atlanta Hawks          │ 1      │\n",
       "│ 2   │ Boston Celtics         │ 2      │\n",
       "│ 3   │ Chicago Bulls          │ 3      │\n",
       "│ 4   │ Cleveland Cavaliers    │ 4      │\n",
       "│ 5   │ Dallas Mavericks       │ 5      │\n",
       "│ 6   │ Denver Nuggets         │ 6      │\n",
       "│ 7   │ Detroit Pistons        │ 7      │\n",
       "│ 8   │ Golden State Warriors  │ 8      │\n",
       "│ 9   │ Houston Rockets        │ 9      │\n",
       "│ 10  │ Indiana Pacers         │ 10     │\n",
       "│ 11  │ Los Angeles Clippers   │ 11     │\n",
       "│ 12  │ Los Angeles Lakers     │ 12     │\n",
       "│ 13  │ Milwaukee Bucks        │ 13     │\n",
       "│ 14  │ New Jersey Nets        │ 14     │\n",
       "│ 15  │ New York Knicks        │ 15     │\n",
       "│ 16  │ Philadelphia 76ers     │ 16     │\n",
       "│ 17  │ Phoenix Suns           │ 17     │\n",
       "│ 18  │ Portland Trail Blazers │ 18     │\n",
       "│ 19  │ Sacramento Kings       │ 19     │\n",
       "│ 20  │ San Antonio Spurs      │ 20     │\n",
       "│ 21  │ Seattle SuperSonics    │ 21     │\n",
       "│ 22  │ Utah Jazz              │ 22     │\n",
       "│ 23  │ Washington Bullets     │ 23     │"
      ]
     },
     "execution_count": 4,
     "metadata": {},
     "output_type": "execute_result"
    }
   ],
   "source": [
    "year = 1987\n",
    "team_id = CSV.read(string(\"/Users/evanmunro/Documents/Github/draft-policy/data/cleaned/teams_\",\n",
    "                            string(year),\".csv\"))\n",
    "season = CSV.read(string(\"/Users/evanmunro/Documents/Github/draft-policy/data/cleaned/season_\",year,\".csv\")) \n",
    "team_id"
   ]
  },
  {
   "cell_type": "code",
   "execution_count": 11,
   "metadata": {},
   "outputs": [
    {
     "name": "stdout",
     "output_type": "stream",
     "text": [
      "5\n",
      "16\n",
      "350\n"
     ]
    },
    {
     "data": {
      "text/html": [
       "<table class=\"data-frame\"><thead><tr><th></th><th>team</th><th>wins</th><th>score</th></tr><tr><th></th><th>String⍰</th><th>Int64</th><th>Float64</th></tr></thead><tbody><p>7 rows × 3 columns</p><tr><th>1</th><td>Phoenix Suns</td><td>36</td><td>0.0118929</td></tr><tr><th>2</th><td>Cleveland Cavaliers</td><td>31</td><td>0.0142262</td></tr><tr><th>3</th><td>Sacramento Kings</td><td>29</td><td>0.11176</td></tr><tr><th>4</th><td>San Antonio Spurs</td><td>28</td><td>0.170343</td></tr><tr><th>5</th><td>New Jersey Nets</td><td>24</td><td>0.0947595</td></tr><tr><th>6</th><td>New York Knicks</td><td>24</td><td>0.0893429</td></tr><tr><th>7</th><td>Los Angeles Clippers</td><td>12</td><td>0.507676</td></tr></tbody></table>"
      ],
      "text/latex": [
       "\\begin{tabular}{r|ccc}\n",
       "\t& team & wins & score\\\\\n",
       "\t\\hline\n",
       "\t& String⍰ & Int64 & Float64\\\\\n",
       "\t\\hline\n",
       "\t1 & Phoenix Suns & 36 & 0.0118929 \\\\\n",
       "\t2 & Cleveland Cavaliers & 31 & 0.0142262 \\\\\n",
       "\t3 & Sacramento Kings & 29 & 0.11176 \\\\\n",
       "\t4 & San Antonio Spurs & 28 & 0.170343 \\\\\n",
       "\t5 & New Jersey Nets & 24 & 0.0947595 \\\\\n",
       "\t6 & New York Knicks & 24 & 0.0893429 \\\\\n",
       "\t7 & Los Angeles Clippers & 12 & 0.507676 \\\\\n",
       "\\end{tabular}\n"
      ],
      "text/plain": [
       "7×3 DataFrame\n",
       "│ Row │ team                 │ wins  │ score     │\n",
       "│     │ \u001b[90mString⍰\u001b[39m              │ \u001b[90mInt64\u001b[39m │ \u001b[90mFloat64\u001b[39m   │\n",
       "├─────┼──────────────────────┼───────┼───────────┤\n",
       "│ 1   │ Phoenix Suns         │ 36    │ 0.0118929 │\n",
       "│ 2   │ Cleveland Cavaliers  │ 31    │ 0.0142262 │\n",
       "│ 3   │ Sacramento Kings     │ 29    │ 0.11176   │\n",
       "│ 4   │ San Antonio Spurs    │ 28    │ 0.170343  │\n",
       "│ 5   │ New Jersey Nets      │ 24    │ 0.0947595 │\n",
       "│ 6   │ New York Knicks      │ 24    │ 0.0893429 │\n",
       "│ 7   │ Los Angeles Clippers │ 12    │ 0.507676  │"
      ]
     },
     "execution_count": 11,
     "metadata": {},
     "output_type": "execute_result"
    }
   ],
   "source": [
    "matches = convert(Matrix, season[[:hID,:aID]])\n",
    "wins = convert(Array, season[:win])\n",
    "teams = convert(Array,team_id[:id])\n",
    "s = Season(teams,matches)\n",
    "#0.5 had good results \n",
    "#wins\n",
    "record=calculate_draft_rule(s,wins,5,16)\n",
    "println(record.stop)\n",
    "end_wins = record.cwins[:,size(record.cwins,2)]\n",
    "end_draft = record.draft_prob[:,size(record.draft_prob,2)] \n",
    "df = DataFrame(team = copy(team_id[:team]),wins = copy(end_wins),score = copy(end_draft))\n",
    "sort!(df, (:wins), rev=(true))\n",
    "\n",
    "added_amt = sum(df[1:16,:score])/(length(teams)-16)\n",
    "df[17:length(teams),:score] = df[17:length(teams),:score] .+ added_amt \n",
    "df[1:16,:score] =  0 \n",
    "df[17:length(teams),:]"
   ]
  },
  {
   "cell_type": "code",
   "execution_count": null,
   "metadata": {},
   "outputs": [],
   "source": [
    "bottom3 = [14,3,22]\n",
    "prob = record.draft_prob[bottom3,:]\n",
    "wins = record.cwins[bottom3,:]\n",
    "plot(transpose(prob[:,1:500]).+added_amt,label=[\"Heat\",\"Hornets\",\"Spurs\"],\n",
    "    size=(800,250), linewidth=4,\n",
    "    legend=:topleft,xlabel=\"Game\",title=\"Evolution of Draft Probability\")\n",
    "savefig(\"prob87.pdf\")"
   ]
  },
  {
   "cell_type": "code",
   "execution_count": null,
   "metadata": {},
   "outputs": [],
   "source": [
    "plot(transpose(wins[:,1:500]),label=[\"Heat\",\"Hornets\",\"Spurs\",\"Stopping Time\"],\n",
    "    linewidth=4,size=(800,250),\n",
    "    legend=:topleft,title=\"Cumulative Wins\")\n",
    "vline!([333],color=\"black\",label=[\"Heat\",\"Hornets\",\"Spurs\",\"Stopping Time\"])\n",
    "savefig(\"wins87.pdf\")"
   ]
  }
 ],
 "metadata": {
  "kernelspec": {
   "display_name": "Julia 1.1.0",
   "language": "julia",
   "name": "julia-1.1"
  },
  "language_info": {
   "file_extension": ".jl",
   "mimetype": "application/julia",
   "name": "julia",
   "version": "1.1.0"
  }
 },
 "nbformat": 4,
 "nbformat_minor": 2
}
