{
 "cells": [
  {
   "cell_type": "code",
   "execution_count": 2,
   "metadata": {},
   "outputs": [
    {
     "name": "stderr",
     "output_type": "stream",
     "text": [
      "┌ Info: Recompiling stale cache file /Users/evanmunro/.julia/compiled/v1.1/JuMP/DmXqY.ji for JuMP [4076af6c-e467-56ae-b986-b466b2749572]\n",
      "└ @ Base loading.jl:1184\n",
      "┌ Info: Recompiling stale cache file /Users/evanmunro/.julia/compiled/v1.1/Ipopt/yMQMo.ji for Ipopt [b6b21f68-93f8-5de0-b562-5493be1d77c9]\n",
      "└ @ Base loading.jl:1184\n"
     ]
    }
   ],
   "source": [
    "using Revise\n",
    "using Plots, CSV, DataFrames\n",
    "includet(\"draftpolicy.jl\")"
   ]
  },
  {
   "cell_type": "markdown",
   "metadata": {},
   "source": [
    "### I.  Example Draft Policy Plot"
   ]
  },
  {
   "cell_type": "code",
   "execution_count": 3,
   "metadata": {},
   "outputs": [
    {
     "data": {
      "text/plain": [
       "60"
      ]
     },
     "execution_count": 3,
     "metadata": {},
     "output_type": "execute_result"
    }
   ],
   "source": [
    "16+21+23"
   ]
  },
  {
   "cell_type": "code",
   "execution_count": 2,
   "metadata": {},
   "outputs": [
    {
     "data": {
      "text/plain": [
       "(60, 2)"
      ]
     },
     "execution_count": 2,
     "metadata": {},
     "output_type": "execute_result"
    }
   ],
   "source": [
    "N=3\n",
    "G= 20\n",
    "s = Season(N,G)\n",
    "size(s.matches)"
   ]
  },
  {
   "cell_type": "code",
   "execution_count": 242,
   "metadata": {},
   "outputs": [
    {
     "name": "stdout",
     "output_type": "stream",
     "text": [
      "Final Draft probabilities: \n",
      "[0.643833, 0.343833, 0.0123333]\n",
      "Stopped at match 37\n",
      "Final record: \n",
      "[16, 21, 23]\n",
      "Ability estimates: \n",
      "[0.217582, 0.362241, 0.420176]\n"
     ]
    }
   ],
   "source": [
    "N=3\n",
    "G= 20\n",
    "s = Season(N,G)\n",
    "abilities = [0,1/3,2/3]\n",
    "record,incentives = calculate_draft_rule(s,nothing,true,abilities,10) \n",
    "summarize(record)"
   ]
  },
  {
   "cell_type": "code",
   "execution_count": 264,
   "metadata": {},
   "outputs": [
    {
     "data": {
      "text/plain": [
       "0.65015"
      ]
     },
     "execution_count": 264,
     "metadata": {},
     "output_type": "execute_result"
    }
   ],
   "source": [
    "0.644+0.0123/2"
   ]
  },
  {
   "cell_type": "code",
   "execution_count": 253,
   "metadata": {},
   "outputs": [],
   "source": [
    "plot(1:length(incentives),incentives,label=[\"\"],xlabel=\"Match\",ylabel=\"Bound on Draft Probability Change\")\n",
    "savefig(\"sim3_inc.pdf\")"
   ]
  },
  {
   "cell_type": "code",
   "execution_count": 255,
   "metadata": {},
   "outputs": [],
   "source": [
    "plot(1:(size(record.draft_prob,2)),transpose(record.draft_prob),xlabel=\"Match\",ylabel=\"Percentage\",\n",
    "    color=[:blue :red :green], legend=:topright,label=[\"T1\",\"T2\",\"T3\"]) \n",
    "savefig(\"sim3_prod.pdf\")"
   ]
  },
  {
   "cell_type": "code",
   "execution_count": 256,
   "metadata": {},
   "outputs": [],
   "source": [
    "plot(1:(size(record.cwins,2)),transpose(record.cwins),xlabel=\"Match\",ylabel=\"Wins\",\n",
    "    color=[:blue :red :green], legend=:top,label=[\"T1\",\"T2\",\"T3\"]) \n",
    "savefig(\"sim3_wins.pdf\")"
   ]
  },
  {
   "cell_type": "code",
   "execution_count": 257,
   "metadata": {},
   "outputs": [],
   "source": [
    "plot(1:(size(record.abilities,2)),transpose(record.abilities),xlabel=\"Match\",ylabel=\"Abilities\",\n",
    "    color=[:blue :red :green], legend=:top,label=[\"T1\",\"T2\",\"T3\"]) \n",
    "#plot(1:size(record.cwins,1),record.cwins,linestyle=:dash,color=[:blue :red :green], legend=:top,\n",
    "  #  title=\"Win Records\", \n",
    "   # label=[\"T1\",\"T2\",\"T3\"],xlabel=\"Match\",ylabel=\"Cumulative Wins\")\n",
    "savefig(\"sim3_abilities.pdf\")\n",
    "\n",
    "\n",
    "\n",
    "\n",
    "#\n",
    "\n"
   ]
  },
  {
   "cell_type": "markdown",
   "metadata": {},
   "source": [
    "### II. Expected Gain over Uniform Lottery"
   ]
  },
  {
   "cell_type": "code",
   "execution_count": 265,
   "metadata": {},
   "outputs": [
    {
     "name": "stdout",
     "output_type": "stream",
     "text": [
      "9"
     ]
    }
   ],
   "source": [
    "print(length(s.matches[:,2]))"
   ]
  },
  {
   "cell_type": "code",
   "execution_count": 260,
   "metadata": {},
   "outputs": [
    {
     "name": "stdout",
     "output_type": "stream",
     "text": [
      "done 1\n",
      "done 2\n",
      "done 3\n",
      "done 4\n",
      "done 5\n",
      "done 6\n",
      "done 7\n",
      "done 8\n",
      "done 9\n",
      "done 10\n",
      "done 11\n",
      "done 12\n",
      "done 13\n",
      "done 14\n",
      "done 15\n",
      "done 16\n",
      "done 17\n",
      "done 18\n",
      "done 19\n",
      "done 20\n"
     ]
    }
   ],
   "source": [
    "N=3\n",
    "G=3\n",
    "s = Season(N,G)\n",
    "\n",
    "stops = zeros(20)\n",
    "obj = zeros(20)\n",
    "\n",
    "for m in 1:20\n",
    "    o,st = expected_objective(s,[1/3,1/3,1/3],false,m)\n",
    "    obj[m] = o\n",
    "    stops[m] = st \n",
    "    println(\"done \", m)\n",
    "end "
   ]
  },
  {
   "cell_type": "code",
   "execution_count": 262,
   "metadata": {},
   "outputs": [],
   "source": [
    "plot(1:20,obj.-0.5,color=[:blue],title=\"Expected Gain over Uniform Lottery\",xlabel=\"B\",ylabel=\"Probability\",label=[\"\"])\n",
    "savefig(\"sim_obj.pdf\")\n",
    "plot(1:20,stops/size(s.matches,1),color=[:red],title=\"Games Taken Into Account\",label=[\"\"],xlabel=\"B\",ylabel=\"Percent\")\n",
    "savefig(\"sim_stops.pdf\")"
   ]
  },
  {
   "cell_type": "code",
   "execution_count": 15,
   "metadata": {},
   "outputs": [],
   "source": []
  },
  {
   "cell_type": "markdown",
   "metadata": {},
   "source": [
    "## 2. Plotting Draft Policy on Real Data"
   ]
  },
  {
   "cell_type": "code",
   "execution_count": 106,
   "metadata": {},
   "outputs": [
    {
     "data": {
      "text/html": [
       "<table class=\"data-frame\"><thead><tr><th></th><th>team</th><th>id</th></tr><tr><th></th><th>String⍰</th><th>Int64⍰</th></tr></thead><tbody><p>23 rows × 2 columns</p><tr><th>1</th><td>Atlanta Hawks</td><td>1</td></tr><tr><th>2</th><td>Boston Celtics</td><td>2</td></tr><tr><th>3</th><td>Chicago Bulls</td><td>3</td></tr><tr><th>4</th><td>Cleveland Cavaliers</td><td>4</td></tr><tr><th>5</th><td>Dallas Mavericks</td><td>5</td></tr><tr><th>6</th><td>Denver Nuggets</td><td>6</td></tr><tr><th>7</th><td>Detroit Pistons</td><td>7</td></tr><tr><th>8</th><td>Golden State Warriors</td><td>8</td></tr><tr><th>9</th><td>Houston Rockets</td><td>9</td></tr><tr><th>10</th><td>Indiana Pacers</td><td>10</td></tr><tr><th>11</th><td>Kansas City Kings</td><td>11</td></tr><tr><th>12</th><td>Los Angeles Clippers</td><td>12</td></tr><tr><th>13</th><td>Los Angeles Lakers</td><td>13</td></tr><tr><th>14</th><td>Milwaukee Bucks</td><td>14</td></tr><tr><th>15</th><td>New Jersey Nets</td><td>15</td></tr><tr><th>16</th><td>New York Knicks</td><td>16</td></tr><tr><th>17</th><td>Philadelphia 76ers</td><td>17</td></tr><tr><th>18</th><td>Phoenix Suns</td><td>18</td></tr><tr><th>19</th><td>Portland Trail Blazers</td><td>19</td></tr><tr><th>20</th><td>San Antonio Spurs</td><td>20</td></tr><tr><th>21</th><td>Seattle SuperSonics</td><td>21</td></tr><tr><th>22</th><td>Utah Jazz</td><td>22</td></tr><tr><th>23</th><td>Washington Bullets</td><td>23</td></tr></tbody></table>"
      ],
      "text/latex": [
       "\\begin{tabular}{r|cc}\n",
       "\t& team & id\\\\\n",
       "\t\\hline\n",
       "\t& String⍰ & Int64⍰\\\\\n",
       "\t\\hline\n",
       "\t1 & Atlanta Hawks & 1 \\\\\n",
       "\t2 & Boston Celtics & 2 \\\\\n",
       "\t3 & Chicago Bulls & 3 \\\\\n",
       "\t4 & Cleveland Cavaliers & 4 \\\\\n",
       "\t5 & Dallas Mavericks & 5 \\\\\n",
       "\t6 & Denver Nuggets & 6 \\\\\n",
       "\t7 & Detroit Pistons & 7 \\\\\n",
       "\t8 & Golden State Warriors & 8 \\\\\n",
       "\t9 & Houston Rockets & 9 \\\\\n",
       "\t10 & Indiana Pacers & 10 \\\\\n",
       "\t11 & Kansas City Kings & 11 \\\\\n",
       "\t12 & Los Angeles Clippers & 12 \\\\\n",
       "\t13 & Los Angeles Lakers & 13 \\\\\n",
       "\t14 & Milwaukee Bucks & 14 \\\\\n",
       "\t15 & New Jersey Nets & 15 \\\\\n",
       "\t16 & New York Knicks & 16 \\\\\n",
       "\t17 & Philadelphia 76ers & 17 \\\\\n",
       "\t18 & Phoenix Suns & 18 \\\\\n",
       "\t19 & Portland Trail Blazers & 19 \\\\\n",
       "\t20 & San Antonio Spurs & 20 \\\\\n",
       "\t21 & Seattle SuperSonics & 21 \\\\\n",
       "\t22 & Utah Jazz & 22 \\\\\n",
       "\t23 & Washington Bullets & 23 \\\\\n",
       "\\end{tabular}\n"
      ],
      "text/plain": [
       "23×2 DataFrame\n",
       "│ Row │ team                   │ id     │\n",
       "│     │ \u001b[90mUnion{Missing, String}\u001b[39m │ \u001b[90mInt64⍰\u001b[39m │\n",
       "├─────┼────────────────────────┼────────┤\n",
       "│ 1   │ Atlanta Hawks          │ 1      │\n",
       "│ 2   │ Boston Celtics         │ 2      │\n",
       "│ 3   │ Chicago Bulls          │ 3      │\n",
       "│ 4   │ Cleveland Cavaliers    │ 4      │\n",
       "│ 5   │ Dallas Mavericks       │ 5      │\n",
       "│ 6   │ Denver Nuggets         │ 6      │\n",
       "│ 7   │ Detroit Pistons        │ 7      │\n",
       "│ 8   │ Golden State Warriors  │ 8      │\n",
       "│ 9   │ Houston Rockets        │ 9      │\n",
       "│ 10  │ Indiana Pacers         │ 10     │\n",
       "│ 11  │ Kansas City Kings      │ 11     │\n",
       "│ 12  │ Los Angeles Clippers   │ 12     │\n",
       "│ 13  │ Los Angeles Lakers     │ 13     │\n",
       "│ 14  │ Milwaukee Bucks        │ 14     │\n",
       "│ 15  │ New Jersey Nets        │ 15     │\n",
       "│ 16  │ New York Knicks        │ 16     │\n",
       "│ 17  │ Philadelphia 76ers     │ 17     │\n",
       "│ 18  │ Phoenix Suns           │ 18     │\n",
       "│ 19  │ Portland Trail Blazers │ 19     │\n",
       "│ 20  │ San Antonio Spurs      │ 20     │\n",
       "│ 21  │ Seattle SuperSonics    │ 21     │\n",
       "│ 22  │ Utah Jazz              │ 22     │\n",
       "│ 23  │ Washington Bullets     │ 23     │"
      ]
     },
     "execution_count": 106,
     "metadata": {},
     "output_type": "execute_result"
    }
   ],
   "source": [
    "#1985,1987,1988,1989\n",
    "year = 1985 \n",
    "team_id = CSV.read(string(\"/Users/evanmunro/Documents/Github/draft-policy/data/cleaned/teams_\",\n",
    "                            string(year),\".csv\"))\n",
    "season = CSV.read(string(\"/Users/evanmunro/Documents/Github/draft-policy/data/cleaned/season_\",year,\".csv\")) \n",
    "team_id"
   ]
  },
  {
   "cell_type": "code",
   "execution_count": 119,
   "metadata": {},
   "outputs": [
    {
     "name": "stdout",
     "output_type": "stream",
     "text": [
      "1.05\n",
      "16\n",
      "97\n"
     ]
    },
    {
     "data": {
      "text/html": [
       "<table class=\"data-frame\"><thead><tr><th></th><th>team</th><th>wins</th><th>score</th></tr><tr><th></th><th>String⍰</th><th>Int64</th><th>Float64</th></tr></thead><tbody><p>7 rows × 3 columns</p><tr><th>1</th><td>Atlanta Hawks</td><td>34</td><td>0.131667</td></tr><tr><th>2</th><td>Kansas City Kings</td><td>31</td><td>0.15875</td></tr><tr><th>3</th><td>Los Angeles Clippers</td><td>31</td><td>0.111583</td></tr><tr><th>4</th><td>Seattle SuperSonics</td><td>31</td><td>0.136583</td></tr><tr><th>5</th><td>New York Knicks</td><td>24</td><td>0.1435</td></tr><tr><th>6</th><td>Golden State Warriors</td><td>22</td><td>0.12825</td></tr><tr><th>7</th><td>Indiana Pacers</td><td>22</td><td>0.189667</td></tr></tbody></table>"
      ],
      "text/latex": [
       "\\begin{tabular}{r|ccc}\n",
       "\t& team & wins & score\\\\\n",
       "\t\\hline\n",
       "\t& String⍰ & Int64 & Float64\\\\\n",
       "\t\\hline\n",
       "\t1 & Atlanta Hawks & 34 & 0.131667 \\\\\n",
       "\t2 & Kansas City Kings & 31 & 0.15875 \\\\\n",
       "\t3 & Los Angeles Clippers & 31 & 0.111583 \\\\\n",
       "\t4 & Seattle SuperSonics & 31 & 0.136583 \\\\\n",
       "\t5 & New York Knicks & 24 & 0.1435 \\\\\n",
       "\t6 & Golden State Warriors & 22 & 0.12825 \\\\\n",
       "\t7 & Indiana Pacers & 22 & 0.189667 \\\\\n",
       "\\end{tabular}\n"
      ],
      "text/plain": [
       "7×3 DataFrame\n",
       "│ Row │ team                  │ wins  │ score    │\n",
       "│     │ \u001b[90mString⍰\u001b[39m               │ \u001b[90mInt64\u001b[39m │ \u001b[90mFloat64\u001b[39m  │\n",
       "├─────┼───────────────────────┼───────┼──────────┤\n",
       "│ 1   │ Atlanta Hawks         │ 34    │ 0.131667 │\n",
       "│ 2   │ Kansas City Kings     │ 31    │ 0.15875  │\n",
       "│ 3   │ Los Angeles Clippers  │ 31    │ 0.111583 │\n",
       "│ 4   │ Seattle SuperSonics   │ 31    │ 0.136583 │\n",
       "│ 5   │ New York Knicks       │ 24    │ 0.1435   │\n",
       "│ 6   │ Golden State Warriors │ 22    │ 0.12825  │\n",
       "│ 7   │ Indiana Pacers        │ 22    │ 0.189667 │"
      ]
     },
     "execution_count": 119,
     "metadata": {},
     "output_type": "execute_result"
    }
   ],
   "source": [
    "matches = convert(Matrix, season[[:hID,:aID]])\n",
    "wins = convert(Array, season[:win])\n",
    "teams = convert(Array,team_id[:id])\n",
    "s = Season(teams,matches)\n",
    "#0.5 had good results \n",
    "#wins\n",
    "record=calculate_draft_rule(s,wins,1.05,16)\n",
    "stoptime=record.stop\n",
    "println(record.stop)\n",
    "end_wins = record.cwins[:,size(record.cwins,2)]\n",
    "end_draft = record.draft_prob[:,size(record.draft_prob,2)] \n",
    "\n",
    "df = DataFrame(team = copy(team_id[:team]),wins = copy(end_wins),score = copy(end_draft))\n",
    "sort!(df, (:wins), rev=(true))\n",
    "\n",
    "added_amt = sum(df[1:16,:score])/(length(teams)-16)\n",
    "df[17:length(teams),:score] = df[17:length(teams),:score] .+ added_amt \n",
    "df[1:16,:score] =  0 \n",
    "df[17:length(teams),:]\n",
    "# reduce at 69 when multiple=5"
   ]
  },
  {
   "cell_type": "code",
   "execution_count": 126,
   "metadata": {},
   "outputs": [],
   "source": [
    "bottom3 = [16,8,10]\n",
    "prob = record.draft_prob[bottom3,:]\n",
    "wins = record.cwins[bottom3,:]\n",
    "plot(transpose(prob[:,1:250]).+added_amt,label=[\"Knicks\",\"Warriors\",\"Spurs\"],\n",
    "    size=(800,250),\n",
    "    #ylims=(0.05,0.3),\n",
    "    linewidth=4,legend=:topright,xlabel=\"Game\",title=\"Evolution of Draft Probability\")\n",
    "savefig(\"prob85.pdf\")"
   ]
  },
  {
   "cell_type": "code",
   "execution_count": 121,
   "metadata": {},
   "outputs": [],
   "source": [
    "plot(transpose(wins[:,1:250]),label=[\"Knicks\",\"Warriors\",\"Spurs\",\"Stopping Time\"],\n",
    "    size=(800,250),\n",
    "    linewidth=4,legend=:topleft,title=\"Cumulative Wins\")\n",
    "vline!([stoptime],color=\"black\",label=[\"Knicks\",\"Warriors\",\"Spurs\",\"Stopping Time\"])\n",
    "savefig(\"wins85.pdf\")"
   ]
  },
  {
   "cell_type": "code",
   "execution_count": 94,
   "metadata": {},
   "outputs": [
    {
     "data": {
      "text/html": [
       "<table class=\"data-frame\"><thead><tr><th></th><th>team</th><th>id</th></tr><tr><th></th><th>String⍰</th><th>Int64⍰</th></tr></thead><tbody><p>25 rows × 2 columns</p><tr><th>1</th><td>Atlanta Hawks</td><td>1</td></tr><tr><th>2</th><td>Boston Celtics</td><td>2</td></tr><tr><th>3</th><td>Charlotte Hornets</td><td>3</td></tr><tr><th>4</th><td>Chicago Bulls</td><td>4</td></tr><tr><th>5</th><td>Cleveland Cavaliers</td><td>5</td></tr><tr><th>6</th><td>Dallas Mavericks</td><td>6</td></tr><tr><th>7</th><td>Denver Nuggets</td><td>7</td></tr><tr><th>8</th><td>Detroit Pistons</td><td>8</td></tr><tr><th>9</th><td>Golden State Warriors</td><td>9</td></tr><tr><th>10</th><td>Houston Rockets</td><td>10</td></tr><tr><th>11</th><td>Indiana Pacers</td><td>11</td></tr><tr><th>12</th><td>Los Angeles Clippers</td><td>12</td></tr><tr><th>13</th><td>Los Angeles Lakers</td><td>13</td></tr><tr><th>14</th><td>Miami Heat</td><td>14</td></tr><tr><th>15</th><td>Milwaukee Bucks</td><td>15</td></tr><tr><th>16</th><td>New Jersey Nets</td><td>16</td></tr><tr><th>17</th><td>New York Knicks</td><td>17</td></tr><tr><th>18</th><td>Philadelphia 76ers</td><td>18</td></tr><tr><th>19</th><td>Phoenix Suns</td><td>19</td></tr><tr><th>20</th><td>Portland Trail Blazers</td><td>20</td></tr><tr><th>21</th><td>Sacramento Kings</td><td>21</td></tr><tr><th>22</th><td>San Antonio Spurs</td><td>22</td></tr><tr><th>23</th><td>Seattle SuperSonics</td><td>23</td></tr><tr><th>24</th><td>Utah Jazz</td><td>24</td></tr><tr><th>25</th><td>Washington Bullets</td><td>25</td></tr></tbody></table>"
      ],
      "text/latex": [
       "\\begin{tabular}{r|cc}\n",
       "\t& team & id\\\\\n",
       "\t\\hline\n",
       "\t& String⍰ & Int64⍰\\\\\n",
       "\t\\hline\n",
       "\t1 & Atlanta Hawks & 1 \\\\\n",
       "\t2 & Boston Celtics & 2 \\\\\n",
       "\t3 & Charlotte Hornets & 3 \\\\\n",
       "\t4 & Chicago Bulls & 4 \\\\\n",
       "\t5 & Cleveland Cavaliers & 5 \\\\\n",
       "\t6 & Dallas Mavericks & 6 \\\\\n",
       "\t7 & Denver Nuggets & 7 \\\\\n",
       "\t8 & Detroit Pistons & 8 \\\\\n",
       "\t9 & Golden State Warriors & 9 \\\\\n",
       "\t10 & Houston Rockets & 10 \\\\\n",
       "\t11 & Indiana Pacers & 11 \\\\\n",
       "\t12 & Los Angeles Clippers & 12 \\\\\n",
       "\t13 & Los Angeles Lakers & 13 \\\\\n",
       "\t14 & Miami Heat & 14 \\\\\n",
       "\t15 & Milwaukee Bucks & 15 \\\\\n",
       "\t16 & New Jersey Nets & 16 \\\\\n",
       "\t17 & New York Knicks & 17 \\\\\n",
       "\t18 & Philadelphia 76ers & 18 \\\\\n",
       "\t19 & Phoenix Suns & 19 \\\\\n",
       "\t20 & Portland Trail Blazers & 20 \\\\\n",
       "\t21 & Sacramento Kings & 21 \\\\\n",
       "\t22 & San Antonio Spurs & 22 \\\\\n",
       "\t23 & Seattle SuperSonics & 23 \\\\\n",
       "\t24 & Utah Jazz & 24 \\\\\n",
       "\t25 & Washington Bullets & 25 \\\\\n",
       "\\end{tabular}\n"
      ],
      "text/plain": [
       "25×2 DataFrame\n",
       "│ Row │ team                   │ id     │\n",
       "│     │ \u001b[90mUnion{Missing, String}\u001b[39m │ \u001b[90mInt64⍰\u001b[39m │\n",
       "├─────┼────────────────────────┼────────┤\n",
       "│ 1   │ Atlanta Hawks          │ 1      │\n",
       "│ 2   │ Boston Celtics         │ 2      │\n",
       "│ 3   │ Charlotte Hornets      │ 3      │\n",
       "│ 4   │ Chicago Bulls          │ 4      │\n",
       "│ 5   │ Cleveland Cavaliers    │ 5      │\n",
       "│ 6   │ Dallas Mavericks       │ 6      │\n",
       "│ 7   │ Denver Nuggets         │ 7      │\n",
       "│ 8   │ Detroit Pistons        │ 8      │\n",
       "│ 9   │ Golden State Warriors  │ 9      │\n",
       "│ 10  │ Houston Rockets        │ 10     │\n",
       "⋮\n",
       "│ 15  │ Milwaukee Bucks        │ 15     │\n",
       "│ 16  │ New Jersey Nets        │ 16     │\n",
       "│ 17  │ New York Knicks        │ 17     │\n",
       "│ 18  │ Philadelphia 76ers     │ 18     │\n",
       "│ 19  │ Phoenix Suns           │ 19     │\n",
       "│ 20  │ Portland Trail Blazers │ 20     │\n",
       "│ 21  │ Sacramento Kings       │ 21     │\n",
       "│ 22  │ San Antonio Spurs      │ 22     │\n",
       "│ 23  │ Seattle SuperSonics    │ 23     │\n",
       "│ 24  │ Utah Jazz              │ 24     │\n",
       "│ 25  │ Washington Bullets     │ 25     │"
      ]
     },
     "execution_count": 94,
     "metadata": {},
     "output_type": "execute_result"
    }
   ],
   "source": [
    "year = 1989\n",
    "team_id = CSV.read(string(\"/Users/evanmunro/Documents/Github/draft-policy/data/cleaned/teams_\",\n",
    "                            string(year),\".csv\"))\n",
    "season = CSV.read(string(\"/Users/evanmunro/Documents/Github/draft-policy/data/cleaned/season_\",year,\".csv\")) \n",
    "team_id"
   ]
  },
  {
   "cell_type": "code",
   "execution_count": 99,
   "metadata": {},
   "outputs": [
    {
     "name": "stdout",
     "output_type": "stream",
     "text": [
      "15\n",
      "16\n",
      "333\n"
     ]
    },
    {
     "data": {
      "text/html": [
       "<table class=\"data-frame\"><thead><tr><th></th><th>team</th><th>wins</th><th>score</th></tr><tr><th></th><th>String⍰</th><th>Int64</th><th>Float64</th></tr></thead><tbody><p>9 rows × 3 columns</p><tr><th>1</th><td>Portland Trail Blazers</td><td>39</td><td>0.00868519</td></tr><tr><th>2</th><td>Dallas Mavericks</td><td>38</td><td>0.00868519</td></tr><tr><th>3</th><td>Indiana Pacers</td><td>28</td><td>0.216352</td></tr><tr><th>4</th><td>Sacramento Kings</td><td>27</td><td>0.118019</td></tr><tr><th>5</th><td>New Jersey Nets</td><td>26</td><td>0.0136852</td></tr><tr><th>6</th><td>Los Angeles Clippers</td><td>21</td><td>0.0323519</td></tr><tr><th>7</th><td>San Antonio Spurs</td><td>21</td><td>0.0883519</td></tr><tr><th>8</th><td>Charlotte Hornets</td><td>20</td><td>0.0788519</td></tr><tr><th>9</th><td>Miami Heat</td><td>15</td><td>0.435019</td></tr></tbody></table>"
      ],
      "text/latex": [
       "\\begin{tabular}{r|ccc}\n",
       "\t& team & wins & score\\\\\n",
       "\t\\hline\n",
       "\t& String⍰ & Int64 & Float64\\\\\n",
       "\t\\hline\n",
       "\t1 & Portland Trail Blazers & 39 & 0.00868519 \\\\\n",
       "\t2 & Dallas Mavericks & 38 & 0.00868519 \\\\\n",
       "\t3 & Indiana Pacers & 28 & 0.216352 \\\\\n",
       "\t4 & Sacramento Kings & 27 & 0.118019 \\\\\n",
       "\t5 & New Jersey Nets & 26 & 0.0136852 \\\\\n",
       "\t6 & Los Angeles Clippers & 21 & 0.0323519 \\\\\n",
       "\t7 & San Antonio Spurs & 21 & 0.0883519 \\\\\n",
       "\t8 & Charlotte Hornets & 20 & 0.0788519 \\\\\n",
       "\t9 & Miami Heat & 15 & 0.435019 \\\\\n",
       "\\end{tabular}\n"
      ],
      "text/plain": [
       "9×3 DataFrame\n",
       "│ Row │ team                   │ wins  │ score      │\n",
       "│     │ \u001b[90mUnion{Missing, String}\u001b[39m │ \u001b[90mInt64\u001b[39m │ \u001b[90mFloat64\u001b[39m    │\n",
       "├─────┼────────────────────────┼───────┼────────────┤\n",
       "│ 1   │ Portland Trail Blazers │ 39    │ 0.00868519 │\n",
       "│ 2   │ Dallas Mavericks       │ 38    │ 0.00868519 │\n",
       "│ 3   │ Indiana Pacers         │ 28    │ 0.216352   │\n",
       "│ 4   │ Sacramento Kings       │ 27    │ 0.118019   │\n",
       "│ 5   │ New Jersey Nets        │ 26    │ 0.0136852  │\n",
       "│ 6   │ Los Angeles Clippers   │ 21    │ 0.0323519  │\n",
       "│ 7   │ San Antonio Spurs      │ 21    │ 0.0883519  │\n",
       "│ 8   │ Charlotte Hornets      │ 20    │ 0.0788519  │\n",
       "│ 9   │ Miami Heat             │ 15    │ 0.435019   │"
      ]
     },
     "execution_count": 99,
     "metadata": {},
     "output_type": "execute_result"
    }
   ],
   "source": [
    "matches = convert(Matrix, season[[:hID,:aID]])\n",
    "wins = convert(Array, season[:win])\n",
    "teams = convert(Array,team_id[:id])\n",
    "s = Season(teams,matches)\n",
    "#0.5 had good results \n",
    "#wins\n",
    "record=calculate_draft_rule(s,wins,15,16)\n",
    "println(record.stop)\n",
    "end_wins = record.cwins[:,size(record.cwins,2)]\n",
    "end_draft = record.draft_prob[:,size(record.draft_prob,2)] \n",
    "df = DataFrame(team = copy(team_id[:team]),wins = copy(end_wins),score = copy(end_draft))\n",
    "sort!(df, (:wins), rev=(true))\n",
    "\n",
    "added_amt = sum(df[1:16,:score])/(length(teams)-16)\n",
    "df[17:length(teams),:score] = df[17:length(teams),:score] .+ added_amt \n",
    "df[1:16,:score] =  0 \n",
    "df[17:length(teams),:]"
   ]
  },
  {
   "cell_type": "code",
   "execution_count": 104,
   "metadata": {},
   "outputs": [],
   "source": [
    "bottom3 = [14,3,22]\n",
    "prob = record.draft_prob[bottom3,:]\n",
    "wins = record.cwins[bottom3,:]\n",
    "plot(transpose(prob[:,1:500]).+added_amt,label=[\"Heat\",\"Hornets\",\"Spurs\"],\n",
    "    size=(800,250), linewidth=4,\n",
    "    legend=:topleft,xlabel=\"Game\",title=\"Evolution of Draft Probability\")\n",
    "savefig(\"prob89.pdf\")"
   ]
  },
  {
   "cell_type": "code",
   "execution_count": 105,
   "metadata": {},
   "outputs": [],
   "source": [
    "plot(transpose(wins[:,1:500]),label=[\"Heat\",\"Hornets\",\"Spurs\",\"Stopping Time\"],\n",
    "    linewidth=4,size=(800,250),\n",
    "    legend=:topleft,title=\"Cumulative Wins\")\n",
    "vline!([333],color=\"black\",label=[\"Heat\",\"Hornets\",\"Spurs\",\"Stopping Time\"])\n",
    "savefig(\"wins89.pdf\")"
   ]
  },
  {
   "cell_type": "code",
   "execution_count": null,
   "metadata": {},
   "outputs": [],
   "source": []
  }
 ],
 "metadata": {
  "kernelspec": {
   "display_name": "Julia 1.1.0",
   "language": "julia",
   "name": "julia-1.1"
  },
  "language_info": {
   "file_extension": ".jl",
   "mimetype": "application/julia",
   "name": "julia",
   "version": "1.1.0"
  }
 },
 "nbformat": 4,
 "nbformat_minor": 2
}
