{
 "cells": [
  {
   "cell_type": "code",
   "execution_count": 35,
   "metadata": {},
   "outputs": [],
   "source": [
    "import requests\n",
    "import csv \n",
    "import urllib.request\n",
    "import time\n",
    "from bs4 import BeautifulSoup"
   ]
  },
  {
   "cell_type": "code",
   "execution_count": 62,
   "metadata": {},
   "outputs": [],
   "source": [
    "def html_to_csv(soup,filename): \n",
    "    table = soup.find('table') \n",
    "    output_rows = []\n",
    "    for table_row in table.findAll('tr'):\n",
    "        columns = table_row.findAll(['td','th'])\n",
    "        output_row = []\n",
    "        for column in columns:\n",
    "            output_row.append(column.text)\n",
    "        output_rows.append(output_row)\n",
    "    output_rows.pop(0)\n",
    "    #print(output_rows)\n",
    "    \n",
    "    with open(filename, \"a\", newline=\"\") as file:\n",
    "        writer = csv.writer(file)\n",
    "        writer.writerows(output_rows)"
   ]
  },
  {
   "cell_type": "markdown",
   "metadata": {},
   "source": [
    "### 1. Scrape NBA Schedules from 1950 "
   ]
  },
  {
   "cell_type": "code",
   "execution_count": 85,
   "metadata": {},
   "outputs": [],
   "source": [
    "months = ['october','november','december','january','february','march','april','may','june']\n",
    "end_url = ['_games-' + i for i in months]\n",
    "end_url = [x + '.html#sc' for x in end_url]\n",
    "for i in range(2019,2020): \n",
    "    filename = 'data/NBA/schedule_'+str(i)+'.csv' \n",
    "    urls = ['https://www.basketball-reference.com/leagues/NBA_' + str(i) + x for x in end_url]\n",
    "    for j in urls: \n",
    "        response = requests.get(j) \n",
    "        if response.status_code ==200: \n",
    "            html_to_csv(BeautifulSoup(response.text,'html.parser'),filename) \n",
    "        else: \n",
    "            print(j + \" FAILED \" + str(response.status_code))\n",
    "        time.sleep(2) "
   ]
  },
  {
   "cell_type": "markdown",
   "metadata": {},
   "source": [
    "### 2. Scrape NHL Schedules from 1923"
   ]
  },
  {
   "cell_type": "code",
   "execution_count": 90,
   "metadata": {},
   "outputs": [],
   "source": [
    "for i in range(2006,2007): \n",
    "    url = 'https://www.hockey-reference.com/leagues/NHL_' + str(i)+'_games.html' \n",
    "    filename = 'data/NHL/schedule_'+str(i)+'.csv' \n",
    "    response = requests.get(url) \n",
    "    if response.status_code ==200: \n",
    "        html_to_csv(BeautifulSoup(response.text,'html.parser'),filename) \n",
    "        time.sleep(2)\n",
    "    else: \n",
    "        print(url + \" FAILED \" + str(response.status_code))"
   ]
  }
 ],
 "metadata": {
  "kernelspec": {
   "display_name": "Python 3",
   "language": "python",
   "name": "python3"
  },
  "language_info": {
   "codemirror_mode": {
    "name": "ipython",
    "version": 3
   },
   "file_extension": ".py",
   "mimetype": "text/x-python",
   "name": "python",
   "nbconvert_exporter": "python",
   "pygments_lexer": "ipython3",
   "version": "3.7.4"
  }
 },
 "nbformat": 4,
 "nbformat_minor": 2
}
