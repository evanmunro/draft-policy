{
 "cells": [
  {
   "cell_type": "code",
   "execution_count": 5,
   "metadata": {},
   "outputs": [
    {
     "data": {
      "text/plain": [
       "calculate_draft_rule (generic function with 8 methods)"
      ]
     },
     "execution_count": 5,
     "metadata": {},
     "output_type": "execute_result"
    }
   ],
   "source": [
    "using Plots, CSV, DataFrames, Serialization\n",
    "include(\"draftpolicy.jl\")"
   ]
  },
  {
   "cell_type": "markdown",
   "metadata": {},
   "source": [
    "Table X on 1987 final standings and lottery probabilities: "
   ]
  },
  {
   "cell_type": "code",
   "execution_count": 42,
   "metadata": {},
   "outputs": [
    {
     "data": {
      "text/html": [
       "<table class=\"data-frame\"><thead><tr><th></th><th>id</th><th>team</th><th>wins</th><th>score</th></tr><tr><th></th><th>Int64⍰</th><th>String⍰</th><th>Int64⍰</th><th>Float64⍰</th></tr></thead><tbody><p>23 rows × 4 columns</p><tr><th>1</th><td>11</td><td>Los Angeles Clippers</td><td>12</td><td>0.589623</td></tr><tr><th>2</th><td>14</td><td>New Jersey Nets</td><td>24</td><td>0.050999</td></tr><tr><th>3</th><td>15</td><td>New York Knicks</td><td>24</td><td>0.0651072</td></tr><tr><th>4</th><td>20</td><td>San Antonio Spurs</td><td>28</td><td>0.173864</td></tr><tr><th>5</th><td>19</td><td>Sacramento Kings</td><td>29</td><td>0.0741297</td></tr><tr><th>6</th><td>4</td><td>Cleveland Cavaliers</td><td>31</td><td>0.00917567</td></tr><tr><th>7</th><td>17</td><td>Phoenix Suns</td><td>36</td><td>0.00694883</td></tr><tr><th>8</th><td>6</td><td>Denver Nuggets</td><td>37</td><td>0.0181463</td></tr><tr><th>9</th><td>21</td><td>Seattle SuperSonics</td><td>39</td><td>0.0008725</td></tr><tr><th>10</th><td>3</td><td>Chicago Bulls</td><td>40</td><td>0.00047</td></tr><tr><th>11</th><td>10</td><td>Indiana Pacers</td><td>41</td><td>0.000417</td></tr><tr><th>12</th><td>8</td><td>Golden State Warriors</td><td>42</td><td>0.0001675</td></tr><tr><th>13</th><td>9</td><td>Houston Rockets</td><td>42</td><td>0.00772933</td></tr><tr><th>14</th><td>23</td><td>Washington Bullets</td><td>42</td><td>0.0020435</td></tr><tr><th>15</th><td>22</td><td>Utah Jazz</td><td>44</td><td>0.000115</td></tr><tr><th>16</th><td>16</td><td>Philadelphia 76ers</td><td>45</td><td>0.000117333</td></tr><tr><th>17</th><td>18</td><td>Portland Trail Blazers</td><td>49</td><td>4.91667e-5</td></tr><tr><th>18</th><td>13</td><td>Milwaukee Bucks</td><td>50</td><td>0.0</td></tr><tr><th>19</th><td>7</td><td>Detroit Pistons</td><td>52</td><td>2.5e-5</td></tr><tr><th>20</th><td>5</td><td>Dallas Mavericks</td><td>55</td><td>0.0</td></tr><tr><th>21</th><td>1</td><td>Atlanta Hawks</td><td>57</td><td>0.0</td></tr><tr><th>22</th><td>2</td><td>Boston Celtics</td><td>59</td><td>0.0</td></tr><tr><th>23</th><td>12</td><td>Los Angeles Lakers</td><td>65</td><td>0.0</td></tr></tbody></table>"
      ],
      "text/latex": [
       "\\begin{tabular}{r|cccc}\n",
       "\t& id & team & wins & score\\\\\n",
       "\t\\hline\n",
       "\t& Int64⍰ & String⍰ & Int64⍰ & Float64⍰\\\\\n",
       "\t\\hline\n",
       "\t1 & 11 & Los Angeles Clippers & 12 & 0.589623 \\\\\n",
       "\t2 & 14 & New Jersey Nets & 24 & 0.050999 \\\\\n",
       "\t3 & 15 & New York Knicks & 24 & 0.0651072 \\\\\n",
       "\t4 & 20 & San Antonio Spurs & 28 & 0.173864 \\\\\n",
       "\t5 & 19 & Sacramento Kings & 29 & 0.0741297 \\\\\n",
       "\t6 & 4 & Cleveland Cavaliers & 31 & 0.00917567 \\\\\n",
       "\t7 & 17 & Phoenix Suns & 36 & 0.00694883 \\\\\n",
       "\t8 & 6 & Denver Nuggets & 37 & 0.0181463 \\\\\n",
       "\t9 & 21 & Seattle SuperSonics & 39 & 0.0008725 \\\\\n",
       "\t10 & 3 & Chicago Bulls & 40 & 0.00047 \\\\\n",
       "\t11 & 10 & Indiana Pacers & 41 & 0.000417 \\\\\n",
       "\t12 & 8 & Golden State Warriors & 42 & 0.0001675 \\\\\n",
       "\t13 & 9 & Houston Rockets & 42 & 0.00772933 \\\\\n",
       "\t14 & 23 & Washington Bullets & 42 & 0.0020435 \\\\\n",
       "\t15 & 22 & Utah Jazz & 44 & 0.000115 \\\\\n",
       "\t16 & 16 & Philadelphia 76ers & 45 & 0.000117333 \\\\\n",
       "\t17 & 18 & Portland Trail Blazers & 49 & 4.91667e-5 \\\\\n",
       "\t18 & 13 & Milwaukee Bucks & 50 & 0.0 \\\\\n",
       "\t19 & 7 & Detroit Pistons & 52 & 2.5e-5 \\\\\n",
       "\t20 & 5 & Dallas Mavericks & 55 & 0.0 \\\\\n",
       "\t21 & 1 & Atlanta Hawks & 57 & 0.0 \\\\\n",
       "\t22 & 2 & Boston Celtics & 59 & 0.0 \\\\\n",
       "\t23 & 12 & Los Angeles Lakers & 65 & 0.0 \\\\\n",
       "\\end{tabular}\n"
      ],
      "text/plain": [
       "23×4 DataFrame\n",
       "│ Row │ id     │ team                   │ wins   │ score       │\n",
       "│     │ \u001b[90mInt64⍰\u001b[39m │ \u001b[90mUnion{Missing, String}\u001b[39m │ \u001b[90mInt64⍰\u001b[39m │ \u001b[90mFloat64⍰\u001b[39m    │\n",
       "├─────┼────────┼────────────────────────┼────────┼─────────────┤\n",
       "│ 1   │ 11     │ Los Angeles Clippers   │ 12     │ 0.589623    │\n",
       "│ 2   │ 14     │ New Jersey Nets        │ 24     │ 0.050999    │\n",
       "│ 3   │ 15     │ New York Knicks        │ 24     │ 0.0651072   │\n",
       "│ 4   │ 20     │ San Antonio Spurs      │ 28     │ 0.173864    │\n",
       "│ 5   │ 19     │ Sacramento Kings       │ 29     │ 0.0741297   │\n",
       "│ 6   │ 4      │ Cleveland Cavaliers    │ 31     │ 0.00917567  │\n",
       "│ 7   │ 17     │ Phoenix Suns           │ 36     │ 0.00694883  │\n",
       "│ 8   │ 6      │ Denver Nuggets         │ 37     │ 0.0181463   │\n",
       "│ 9   │ 21     │ Seattle SuperSonics    │ 39     │ 0.0008725   │\n",
       "│ 10  │ 3      │ Chicago Bulls          │ 40     │ 0.00047     │\n",
       "│ 11  │ 10     │ Indiana Pacers         │ 41     │ 0.000417    │\n",
       "│ 12  │ 8      │ Golden State Warriors  │ 42     │ 0.0001675   │\n",
       "│ 13  │ 9      │ Houston Rockets        │ 42     │ 0.00772933  │\n",
       "│ 14  │ 23     │ Washington Bullets     │ 42     │ 0.0020435   │\n",
       "│ 15  │ 22     │ Utah Jazz              │ 44     │ 0.000115    │\n",
       "│ 16  │ 16     │ Philadelphia 76ers     │ 45     │ 0.000117333 │\n",
       "│ 17  │ 18     │ Portland Trail Blazers │ 49     │ 4.91667e-5  │\n",
       "│ 18  │ 13     │ Milwaukee Bucks        │ 50     │ 0.0         │\n",
       "│ 19  │ 7      │ Detroit Pistons        │ 52     │ 2.5e-5      │\n",
       "│ 20  │ 5      │ Dallas Mavericks       │ 55     │ 0.0         │\n",
       "│ 21  │ 1      │ Atlanta Hawks          │ 57     │ 0.0         │\n",
       "│ 22  │ 2      │ Boston Celtics         │ 59     │ 0.0         │\n",
       "│ 23  │ 12     │ Los Angeles Lakers     │ 65     │ 0.0         │"
      ]
     },
     "execution_count": 42,
     "metadata": {},
     "output_type": "execute_result"
    }
   ],
   "source": [
    "CSV.read(string(\"results/run2/record\",1987,\".csv\"))"
   ]
  },
  {
   "cell_type": "markdown",
   "metadata": {},
   "source": [
    "### 1987 Figures"
   ]
  },
  {
   "cell_type": "code",
   "execution_count": 13,
   "metadata": {},
   "outputs": [],
   "source": [
    "record = deserialize(string(\"results/run2/object\",1987,\".jb\"))\n",
    "bottom3 = [11,14,15]\n",
    "prob = record.draft_prob[bottom3,:]\n",
    "wins = record.cwins[bottom3,:]\n",
    "stoptime=record.stop\n",
    "plot(transpose(wins[:,1:(stoptime+50)]),label=[\"Clippers\",\"Nets\",\"Knicks\",\"Stopping Time\"],\n",
    "    size=(800,250),\n",
    "    linewidth=4,legend=:topleft,ylabel=\"Cumulative Wins\")\n",
    "vline!([stoptime],color=\"black\",label=[\"Clippers\",\"Nets\",\"Knicks\",\"Stopping Time\"])\n",
    "savefig(\"wins87.pdf\")"
   ]
  },
  {
   "cell_type": "code",
   "execution_count": 12,
   "metadata": {},
   "outputs": [],
   "source": [
    "plot(transpose(prob[:,1:(stoptime+50)]),label=[\"Clippers\",\"Nets\",\"Knicks\",\"Stopping Time\"],\n",
    "    size=(800,250), ylabel=\"Draft Probability\", \n",
    "    #ylims=(0.05,0.3),\n",
    "    linewidth=4,legend=:topleft,xlabel=\"Game\")\n",
    "vline!([stoptime],color=\"black\",label=[\"Clippers\",\"Nets\",\"Knicks\",\"Stopping Time\"])\n",
    "savefig(\"prob87.pdf\")"
   ]
  },
  {
   "cell_type": "markdown",
   "metadata": {},
   "source": [
    "## Supplementary Analyses"
   ]
  },
  {
   "cell_type": "markdown",
   "metadata": {},
   "source": [
    "1. Create table that combines results from 1985 to 1989 and prints stopping times. "
   ]
  },
  {
   "cell_type": "code",
   "execution_count": 17,
   "metadata": {},
   "outputs": [
    {
     "name": "stdout",
     "output_type": "stream",
     "text": [
      "(23, 944)\n",
      "527\n",
      "(23, 944)\n",
      "435\n",
      "(23, 944)\n",
      "371\n",
      "(23, 944)\n",
      "465\n",
      "(25, 1026)\n",
      "353\n"
     ]
    }
   ],
   "source": [
    "years = [1985,1986,1987,1988,1989]\n",
    "\n",
    "results = DataFrame(ranking=1:8)\n",
    "\n",
    "results\n",
    "for i in 1:length(years)\n",
    "    yr = years[i] \n",
    "    record = deserialize(string(\"results/run2/object\",yr,\".jb\"))\n",
    "    standings = CSV.read(string(\"results/run2/record\",yr,\".csv\"))\n",
    "    results[Symbol(string(\"score_\",yr))] = standings[:score][1:8].*100\n",
    "    results[Symbol(string(\"score_\",yr))][8] = sum(standings[:score][8:length(standings[:score])])*100\n",
    "    println(size(record.draft_prob))\n",
    "    println(record.stop)\n",
    "end"
   ]
  },
  {
   "cell_type": "markdown",
   "metadata": {},
   "source": [
    "Average stopping time: "
   ]
  },
  {
   "cell_type": "code",
   "execution_count": null,
   "metadata": {},
   "outputs": [],
   "source": []
  },
  {
   "cell_type": "code",
   "execution_count": 46,
   "metadata": {},
   "outputs": [
    {
     "data": {
      "text/plain": [
       "0.4497431195691678"
      ]
     },
     "execution_count": 46,
     "metadata": {},
     "output_type": "execute_result"
    }
   ],
   "source": [
    "((527/944)+435/944+371/944+465/944+353/1026)/5"
   ]
  },
  {
   "cell_type": "code",
   "execution_count": 14,
   "metadata": {},
   "outputs": [
    {
     "data": {
      "text/plain": [
       "96.97500000000001"
      ]
     },
     "execution_count": 14,
     "metadata": {},
     "output_type": "execute_result"
    }
   ],
   "source": [
    "58.96+5.1+6.5+17.4+7.4+0.92+0.695"
   ]
  },
  {
   "cell_type": "code",
   "execution_count": 18,
   "metadata": {},
   "outputs": [
    {
     "data": {
      "text/html": [
       "<table class=\"data-frame\"><thead><tr><th></th><th>ranking</th><th>score_1985</th><th>score_1986</th><th>score_1987</th><th>score_1988</th><th>score_1989</th></tr><tr><th></th><th>Int64</th><th>Float64</th><th>Float64</th><th>Float64</th><th>Float64</th><th>Float64</th></tr></thead><tbody><p>8 rows × 6 columns</p><tr><th>1</th><td>1</td><td>58.0436</td><td>7.34587</td><td>58.9623</td><td>22.1537</td><td>46.4452</td></tr><tr><th>2</th><td>2</td><td>9.88972</td><td>29.1468</td><td>5.0999</td><td>39.4561</td><td>6.60455</td></tr><tr><th>3</th><td>3</td><td>4.07849</td><td>1.63031</td><td>6.51072</td><td>22.4004</td><td>3.05689</td></tr><tr><th>4</th><td>4</td><td>7.81534</td><td>4.10456</td><td>17.3864</td><td>8.93705</td><td>6.44578</td></tr><tr><th>5</th><td>5</td><td>0.817402</td><td>18.6521</td><td>7.41297</td><td>3.03347</td><td>0.593826</td></tr><tr><th>6</th><td>6</td><td>0.314419</td><td>3.34928</td><td>0.917567</td><td>0.252533</td><td>6.69828</td></tr><tr><th>7</th><td>7</td><td>0.56921</td><td>18.8862</td><td>0.694883</td><td>0.0395333</td><td>23.2237</td></tr><tr><th>8</th><td>8</td><td>18.4719</td><td>16.8849</td><td>3.01527</td><td>3.72722</td><td>6.93182</td></tr></tbody></table>"
      ],
      "text/latex": [
       "\\begin{tabular}{r|cccccc}\n",
       "\t& ranking & score\\_1985 & score\\_1986 & score\\_1987 & score\\_1988 & score\\_1989\\\\\n",
       "\t\\hline\n",
       "\t& Int64 & Float64 & Float64 & Float64 & Float64 & Float64\\\\\n",
       "\t\\hline\n",
       "\t1 & 1 & 58.0436 & 7.34587 & 58.9623 & 22.1537 & 46.4452 \\\\\n",
       "\t2 & 2 & 9.88972 & 29.1468 & 5.0999 & 39.4561 & 6.60455 \\\\\n",
       "\t3 & 3 & 4.07849 & 1.63031 & 6.51072 & 22.4004 & 3.05689 \\\\\n",
       "\t4 & 4 & 7.81534 & 4.10456 & 17.3864 & 8.93705 & 6.44578 \\\\\n",
       "\t5 & 5 & 0.817402 & 18.6521 & 7.41297 & 3.03347 & 0.593826 \\\\\n",
       "\t6 & 6 & 0.314419 & 3.34928 & 0.917567 & 0.252533 & 6.69828 \\\\\n",
       "\t7 & 7 & 0.56921 & 18.8862 & 0.694883 & 0.0395333 & 23.2237 \\\\\n",
       "\t8 & 8 & 18.4719 & 16.8849 & 3.01527 & 3.72722 & 6.93182 \\\\\n",
       "\\end{tabular}\n"
      ],
      "text/plain": [
       "8×6 DataFrame. Omitted printing of 1 columns\n",
       "│ Row │ ranking │ score_1985 │ score_1986 │ score_1987 │ score_1988 │\n",
       "│     │ \u001b[90mInt64\u001b[39m   │ \u001b[90mFloat64\u001b[39m    │ \u001b[90mFloat64\u001b[39m    │ \u001b[90mFloat64\u001b[39m    │ \u001b[90mFloat64\u001b[39m    │\n",
       "├─────┼─────────┼────────────┼────────────┼────────────┼────────────┤\n",
       "│ 1   │ 1       │ 58.0436    │ 7.34587    │ 58.9623    │ 22.1537    │\n",
       "│ 2   │ 2       │ 9.88972    │ 29.1468    │ 5.0999     │ 39.4561    │\n",
       "│ 3   │ 3       │ 4.07849    │ 1.63031    │ 6.51072    │ 22.4004    │\n",
       "│ 4   │ 4       │ 7.81534    │ 4.10456    │ 17.3864    │ 8.93705    │\n",
       "│ 5   │ 5       │ 0.817402   │ 18.6521    │ 7.41297    │ 3.03347    │\n",
       "│ 6   │ 6       │ 0.314419   │ 3.34928    │ 0.917567   │ 0.252533   │\n",
       "│ 7   │ 7       │ 0.56921    │ 18.8862    │ 0.694883   │ 0.0395333  │\n",
       "│ 8   │ 8       │ 18.4719    │ 16.8849    │ 3.01527    │ 3.72722    │"
      ]
     },
     "execution_count": 18,
     "metadata": {},
     "output_type": "execute_result"
    }
   ],
   "source": [
    "results"
   ]
  },
  {
   "cell_type": "markdown",
   "metadata": {},
   "source": [
    "1. Average Probability Lowest Ranked Team Wins Lottery"
   ]
  },
  {
   "cell_type": "code",
   "execution_count": 43,
   "metadata": {},
   "outputs": [
    {
     "data": {
      "text/plain": [
       "38.59012571428612"
      ]
     },
     "execution_count": 43,
     "metadata": {},
     "output_type": "execute_result"
    }
   ],
   "source": [
    "sum(results[1,:][2:length(results[1,:])])/5"
   ]
  },
  {
   "cell_type": "markdown",
   "metadata": {},
   "source": [
    "2. Average Stopping Team"
   ]
  },
  {
   "cell_type": "code",
   "execution_count": null,
   "metadata": {},
   "outputs": [],
   "source": []
  }
 ],
 "metadata": {
  "kernelspec": {
   "display_name": "Julia 1.1.0",
   "language": "julia",
   "name": "julia-1.1"
  },
  "language_info": {
   "file_extension": ".jl",
   "mimetype": "application/julia",
   "name": "julia",
   "version": "1.1.0"
  }
 },
 "nbformat": 4,
 "nbformat_minor": 2
}
