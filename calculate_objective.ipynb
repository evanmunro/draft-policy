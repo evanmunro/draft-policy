{
 "cells": [
  {
   "cell_type": "code",
   "execution_count": 1,
   "metadata": {},
   "outputs": [],
   "source": [
    "using JuMP, Plots, Gurobi, Revise, Suppressor\n",
    "includet(\"draftpolicy.jl\")"
   ]
  },
  {
   "cell_type": "code",
   "execution_count": null,
   "metadata": {},
   "outputs": [],
   "source": [
    "#3 and 5 is feasible ~10 minutes "
   ]
  },
  {
   "cell_type": "code",
   "execution_count": null,
   "metadata": {
    "scrolled": true
   },
   "outputs": [],
   "source": [
    "N = 3\n",
    "G = 5\n",
    "abilities = zeros(N).+1/N\n",
    "s = Season(N,G,abilities)\n",
    "pi_t = 10\n",
    "pi_b = 0\n",
    "nsims = pi_t - pi_b+1\n",
    "obj_opt = zeros(nsims)\n",
    "obj_ntd = zeros(nsims) \n",
    "opt_wts = zeros(length(s.matches))\n",
    "ntd_wts= zeros(length(s.matches))\n",
    "#a,b, opt_wts, ntd_wts = calc_objective(s,5)\n",
    "for mult in pi_b:pi_t \n",
    "    @suppress_out begin\n",
    "        i = mult-pi_b+1\n",
    "        obj_opt[i], obj_ntd[i],opt_wts,ntd_wts = calc_objective(s, mult)\n",
    "    end\n",
    "    if mult ==10 \n",
    "        plot([ opt_wts ntd_wts],xlabel=\"Match\",ylabel=\"Weight\",ylims=[0,0.2],labels=[\"optimal weights\",\"draft weights\"])\n",
    "        savefig(\"figures/weights10.pdf\")\n",
    "    end \n",
    "end\n",
    "\n",
    "obj_unif= zeros(nsims) .+ 1/(N-1)\n",
    "obj_ante= zeros(nsims) .+ 1/(N)\n",
    "plot(pi_b:pi_t,[ obj_ante obj_unif obj_opt obj_ntd], ylims=[0,1.1], xlabel=\"B\", ylabel=\"Expected Objective\",label=[\"Ex-Ante Uniform\", \"Ex-Post Uniform\",\"Optimal\",\"R-NTD\"])\n",
    "savefig(\"figures/simulated_gain.pdf\")\n",
    "\n"
   ]
  },
  {
   "cell_type": "code",
   "execution_count": 44,
   "metadata": {},
   "outputs": [
    {
     "data": {
      "text/plain": [
       "13-element Array{Float64,1}:\n",
       " 0.3333333333333333\n",
       " 0.3333333333333333\n",
       " 0.3333333333333333\n",
       " 0.3333333333333333\n",
       " 0.3333333333333333\n",
       " 0.3333333333333333\n",
       " 0.3333333333333333\n",
       " 0.3333333333333333\n",
       " 0.3333333333333333\n",
       " 0.3333333333333333\n",
       " 0.3333333333333333\n",
       " 0.3333333333333333\n",
       " 0.3333333333333333"
      ]
     },
     "execution_count": 44,
     "metadata": {},
     "output_type": "execute_result"
    }
   ],
   "source": [
    "obj_ante"
   ]
  },
  {
   "cell_type": "code",
   "execution_count": 18,
   "metadata": {},
   "outputs": [
    {
     "data": {
      "text/plain": [
       "calc_objective (generic function with 1 method)"
      ]
     },
     "execution_count": 18,
     "metadata": {},
     "output_type": "execute_result"
    }
   ],
   "source": [
    "function calc_objective(s, mult)\n",
    "    println(mult)\n",
    "    topk = 1 \n",
    "    N = length(s.teams)\n",
    "    y = zeros(N) .+ 1/N \n",
    "    M = size(s.matches, 1)\n",
    "    ntd_val = zeros(2^M)\n",
    "    ntd_wts = zeros(M)\n",
    "    losers = ones(Int,2^M)\n",
    "    adjust = true \n",
    "    model = Model(with_optimizer(Gurobi.Optimizer))\n",
    "\n",
    "    #draft rule for all partial histories \n",
    "    @variable(model, 0<=x[i=0:M, j=1:2^i, k=1:N]<=1) \n",
    "    \n",
    "    #x = model[:x]\n",
    "    #FAIR constraint \n",
    "    for k in 1:N \n",
    "        @constraint(model,x[0,1,k]==1/N)\n",
    "    end\n",
    "    \n",
    "    #PROB constraint \n",
    "    for i in 1:M \n",
    "        for j in 1:2^i \n",
    "            @constraint(model,sum(x[i,j,k] for k in 1:N)==1)\n",
    "        end\n",
    "    end\n",
    "\n",
    "    #DC Constraint under equal ability \n",
    "    for i in 0:(M-1) \n",
    "        for j in 1:2^i\n",
    "            for k in 1:N \n",
    "                @constraint(model,x[i,j,k] == 1/2*x[i+1,2*j,k]+ 1/2*x[i+1,2*j-1,k])\n",
    "            end\n",
    "        end\n",
    "    end\n",
    "    \n",
    "    history = zeros(N) \n",
    "    step_forward(model, history, y, adjust, ntd_val, ntd_wts, losers,\n",
    "                  s, 1, 1, mult, topk)\n",
    "     \n",
    "    @objective(model, Max, sum(x[M,j,losers[j]] for j in 1:2^M)/2^M)\n",
    "    \n",
    "    optimize!(model)\n",
    "    println(\"here\")\n",
    "    opt_wts = zeros(M) \n",
    "    for m in 1:M\n",
    "        wt = 0 \n",
    "        for j in 1:2^(m-1)\n",
    "            for n in 1:N \n",
    "                wt += abs(value(x[m,2*j-1,n]) - value(x[m-1,j,n]))\n",
    "                wt += abs(value(x[m,2*j,n]) -  value(x[m-1,j,n]))\n",
    "            end\n",
    "        end\n",
    "        opt_wts[m] = wt/(N*2^m)\n",
    "    end \n",
    "        \n",
    "    \n",
    "    return objective_value(model), \n",
    "            ntd_val, opt_wts, ntd_wts\n",
    "    \n",
    "end"
   ]
  },
  {
   "cell_type": "code",
   "execution_count": 19,
   "metadata": {},
   "outputs": [
    {
     "data": {
      "text/plain": [
       "step_forward (generic function with 1 method)"
      ]
     },
     "execution_count": 19,
     "metadata": {},
     "output_type": "execute_result"
    }
   ],
   "source": [
    "#adds NTD constraint and calculates draft rule as step forward through \n",
    "#tree of all possible season outcomes \n",
    "#only for equal abilities, for now \n",
    "function step_forward(model, history, y, adjust, ntd_val, ntd_wts, losers, s,m,j,pi,topk)\n",
    "    M = size(s.matches,1)  \n",
    "    t1,t2 = s.matches[m,:]\n",
    "    probw1, probl1 = win_prob_sim(add_win(history,t1), s.teams, \n",
    "                    s.matches[(m+1):M,:], s.pwin, topk)\n",
    "    probw2, probl2 = win_prob_sim(add_win(history,t2), s.teams, \n",
    "                    s.matches[(m+1):M,:], s.pwin, topk)\n",
    "        \n",
    "    diff1 = pi*(probw1[t1]-probw2[t1])\n",
    "    diff2 = pi*(probw2[t2]-probw1[t2])\n",
    "        \n",
    "    x = model[:x]\n",
    "    @constraint(model, x[m, 2*j, t1] - x[m, 2*j-1, t1] <= diff1)\n",
    "    @constraint(model, x[m, 2*j-1, t2] - x[m, 2*j, t2] <= diff2)\n",
    "\n",
    "    if !adjust || diff1 < (probl2[t1]-probl1[t1]) || diff2 < (probl1[t2]-probl2[t2])\n",
    "        adjust = false \n",
    "        y1 = copy(y)\n",
    "        y2 = copy(y)\n",
    "    else \n",
    "        y1 = probl1 \n",
    "        y2 = probl2 \n",
    "    end\n",
    "    \n",
    "    ntd_wts[m] += (mean(abs.(y1.-y)) + mean(abs.(y2.-y)))/2^m \n",
    "\n",
    "    if m < M \n",
    "        step_forward(model, add_win(history, t1), y1, adjust, \n",
    "                     ntd_val, ntd_wts, losers, s, m+1, 2*j-1, pi, topk)\n",
    "        step_forward(model, add_win(history, t2), y2, adjust, \n",
    "                     ntd_val, ntd_wts, losers, s, m+1, 2*j, pi, topk)\n",
    "    else  \n",
    "        #which loser for the given history \n",
    "        losers[2*j-1] = argmin(add_win(history,t1))\n",
    "        losers[2*j] = argmin(add_win(history,t2))  \n",
    "        ntd_val[2*j-1] = y1[argmin(add_win(history,t1))]\n",
    "        ntd_val[2*j] = y2[argmin(add_win(history,t2))]\n",
    "    end\n",
    "end"
   ]
  },
  {
   "cell_type": "code",
   "execution_count": 64,
   "metadata": {},
   "outputs": [
    {
     "data": {
      "text/plain": [
       "2.0"
      ]
     },
     "execution_count": 64,
     "metadata": {},
     "output_type": "execute_result"
    }
   ],
   "source": [
    "mean([1,2,3])"
   ]
  },
  {
   "cell_type": "code",
   "execution_count": null,
   "metadata": {},
   "outputs": [],
   "source": []
  }
 ],
 "metadata": {
  "kernelspec": {
   "display_name": "Julia 1.1.0",
   "language": "julia",
   "name": "julia-1.1"
  },
  "language_info": {
   "file_extension": ".jl",
   "mimetype": "application/julia",
   "name": "julia",
   "version": "1.1.0"
  }
 },
 "nbformat": 4,
 "nbformat_minor": 2
}
